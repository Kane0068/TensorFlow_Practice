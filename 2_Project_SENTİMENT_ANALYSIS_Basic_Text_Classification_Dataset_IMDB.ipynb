{
  "nbformat": 4,
  "nbformat_minor": 0,
  "metadata": {
    "colab": {
      "provenance": [],
      "authorship_tag": "ABX9TyP8CM6Sh3VI7MuPhTMZ2Vcq"
    },
    "kernelspec": {
      "name": "python3",
      "display_name": "Python 3"
    },
    "language_info": {
      "name": "python"
    }
  },
  "cells": [
    {
      "cell_type": "markdown",
      "source": [
        "SENTİMENT ANALYSİS"
      ],
      "metadata": {
        "id": "zjpdtRcIDNQ4"
      }
    },
    {
      "cell_type": "code",
      "execution_count": 1,
      "metadata": {
        "id": "YS9jgzR06s5X"
      },
      "outputs": [],
      "source": [
        "# Düz bir metin deposundan duygu analizi yapmak için ikili sınıflandırma yapılacak\n",
        "# Datasets : IMDB"
      ]
    },
    {
      "cell_type": "code",
      "source": [
        "# IMPORTING LIBRARIES\n",
        "import matplotlib.pyplot as plt\n",
        "import os\n",
        "import re\n",
        "import shutil\n",
        "import string\n",
        "import tensorflow as tf\n",
        "\n",
        "\n",
        "from tensorflow.keras import layers\n",
        "from tensorflow.keras import losses"
      ],
      "metadata": {
        "id": "3JiO1ONHChaR"
      },
      "execution_count": 2,
      "outputs": []
    },
    {
      "cell_type": "code",
      "source": [
        "# fFilm eleştiri metinlerine göre olumlu yada olumsuz olarak sınıflandırılacak\n",
        "# IMDB 50000 film incelemesinin metnini içeren Large Movie Review Dataset kullanılacak\n",
        "# Train_Set = 25000-------------- Test_Set = 25000 /// Olumlu olumsuz yorumlar dengeli bir şekilde dağılmıştır"
      ],
      "metadata": {
        "id": "eQwLtlkNDIxm"
      },
      "execution_count": 3,
      "outputs": []
    },
    {
      "cell_type": "code",
      "source": [
        "url = \"https://ai.stanford.edu/~amaas/data/sentiment/aclImdb_v1.tar.gz\"\n",
        "\n",
        "dataset = tf.keras.utils.get_file(\"aclImdb_v1\", url,\n",
        "                                    untar=True, cache_dir='.',\n",
        "                                    cache_subdir='')\n",
        "\n",
        "dataset_dir = os.path.join(os.path.dirname(dataset), 'aclImdb')"
      ],
      "metadata": {
        "id": "RCQPyNW3D8Ji"
      },
      "execution_count": 4,
      "outputs": []
    },
    {
      "cell_type": "code",
      "source": [
        "os.listdir(dataset_dir)"
      ],
      "metadata": {
        "colab": {
          "base_uri": "https://localhost:8080/"
        },
        "id": "G2NpbtcYFNaB",
        "outputId": "1d5ee346-9d88-4dc6-fc5a-c2c83764420b"
      },
      "execution_count": 5,
      "outputs": [
        {
          "output_type": "execute_result",
          "data": {
            "text/plain": [
              "['imdb.vocab', 'README', 'test', 'imdbEr.txt', 'train']"
            ]
          },
          "metadata": {},
          "execution_count": 5
        }
      ]
    },
    {
      "cell_type": "code",
      "source": [
        "# Train klasörünü oluşturalım\n",
        "\n",
        "train_dir = os.path.join(dataset_dir,\"train\")\n",
        "os.listdir(train_dir)"
      ],
      "metadata": {
        "colab": {
          "base_uri": "https://localhost:8080/"
        },
        "id": "BYCl9b1EFnLV",
        "outputId": "3248090a-46ae-487c-8628-b138449f0a58"
      },
      "execution_count": 6,
      "outputs": [
        {
          "output_type": "execute_result",
          "data": {
            "text/plain": [
              "['unsup',\n",
              " 'neg',\n",
              " 'urls_pos.txt',\n",
              " 'unsupBow.feat',\n",
              " 'urls_neg.txt',\n",
              " 'urls_unsup.txt',\n",
              " 'labeledBow.feat',\n",
              " 'pos']"
            ]
          },
          "metadata": {},
          "execution_count": 6
        }
      ]
    },
    {
      "cell_type": "code",
      "source": [
        "# Train klasöründeki pos ve neg klasörleri olumlu ve olumsuz metinleri içerir\n",
        "# Birini inceleyelim\n",
        "\n",
        "sample_file = os.path.join(train_dir,\"pos/1181_9.txt\")\n",
        "with open(sample_file) as f:\n",
        "  print(f.read())"
      ],
      "metadata": {
        "colab": {
          "base_uri": "https://localhost:8080/"
        },
        "id": "JrI-cYUxFzyb",
        "outputId": "c23eb895-f1f7-495b-8f82-c056d20deaa3"
      },
      "execution_count": 7,
      "outputs": [
        {
          "output_type": "stream",
          "name": "stdout",
          "text": [
            "Rachel Griffiths writes and directs this award winning short film. A heartwarming story about coping with grief and cherishing the memory of those we've loved and lost. Although, only 15 minutes long, Griffiths manages to capture so much emotion and truth onto film in the short space of time. Bud Tingwell gives a touching performance as Will, a widower struggling to cope with his wife's death. Will is confronted by the harsh reality of loneliness and helplessness as he proceeds to take care of Ruth's pet cow, Tulip. The film displays the grief and responsibility one feels for those they have loved and lost. Good cinematography, great direction, and superbly acted. It will bring tears to all those who have lost a loved one, and survived.\n"
          ]
        }
      ]
    },
    {
      "cell_type": "code",
      "source": [
        "# Verileri diskten yükleyelim ve uygun bir formata çevireceğiz\n",
        "# Hazırlayacağımız format tf.keras.preprocessing içerisinde yer alan text_dataset_form_directory için olacak\n",
        "# İki sınıftan oluşacak class_a ve class_b şeklinde tabiki bu uygulamamız için train klasörünün içerisindeki \"pos\" ve \"neg\" sınıfları olarak ayarlayacaz\n",
        "# Bu iki sınıftan hariç diğer dosyaları kaldıracaz\n",
        "\n",
        "remove_dir = os.path.join(train_dir,\"unsup\")\n",
        "shutil.rmtree(remove_dir)"
      ],
      "metadata": {
        "id": "gCU_w2ShGxSy"
      },
      "execution_count": 8,
      "outputs": []
    },
    {
      "cell_type": "code",
      "source": [
        "#Veri kümesini 3 bölüme ayırmamız gerekiyor train-test-validation\n",
        "#Zaten veri train ve test içeriyor\n",
        "#egitim veri setini 80-20 olarak bölelim\n",
        "\n",
        "\n",
        "batch_size =32\n",
        "seed =42\n",
        "raw_train_ds = tf.keras.utils.text_dataset_from_directory(\n",
        "    'aclImdb/train',\n",
        "    batch_size = batch_size,\n",
        "    validation_split = 0.2,\n",
        "    subset = \"training\",\n",
        "    seed = seed\n",
        ")"
      ],
      "metadata": {
        "id": "B_Od7DQFH0Im",
        "colab": {
          "base_uri": "https://localhost:8080/"
        },
        "outputId": "e9d1ff4c-87f3-492c-82ec-f7c7e7bf5182"
      },
      "execution_count": 9,
      "outputs": [
        {
          "output_type": "stream",
          "name": "stdout",
          "text": [
            "Found 25000 files belonging to 2 classes.\n",
            "Using 20000 files for training.\n"
          ]
        }
      ]
    },
    {
      "cell_type": "code",
      "source": [
        "# Veri setini inceleyelim\n",
        "for text_batch,label_batch in raw_train_ds.take(1):\n",
        "  for i in range(3):\n",
        "    print(\"Review\" , text_batch.numpy()[i])\n",
        "    print(\"Label\" , label_batch.numpy()[i])"
      ],
      "metadata": {
        "id": "opz7I3VLH0k1",
        "colab": {
          "base_uri": "https://localhost:8080/"
        },
        "outputId": "264a0332-d32d-4601-8a8a-8ac35dd20cdf"
      },
      "execution_count": 10,
      "outputs": [
        {
          "output_type": "stream",
          "name": "stdout",
          "text": [
            "Review b'\"Pandemonium\" is a horror movie spoof that comes off more stupid than funny. Believe me when I tell you, I love comedies. Especially comedy spoofs. \"Airplane\", \"The Naked Gun\" trilogy, \"Blazing Saddles\", \"High Anxiety\", and \"Spaceballs\" are some of my favorite comedies that spoof a particular genre. \"Pandemonium\" is not up there with those films. Most of the scenes in this movie had me sitting there in stunned silence because the movie wasn\\'t all that funny. There are a few laughs in the film, but when you watch a comedy, you expect to laugh a lot more than a few times and that\\'s all this film has going for it. Geez, \"Scream\" had more laughs than this film and that was more of a horror film. How bizarre is that?<br /><br />*1/2 (out of four)'\n",
            "Label 0\n",
            "Review b\"David Mamet is a very interesting and a very un-equal director. His first movie 'House of Games' was the one I liked best, and it set a series of films with characters whose perspective of life changes as they get into complicated situations, and so does the perspective of the viewer.<br /><br />So is 'Homicide' which from the title tries to set the mind of the viewer to the usual crime drama. The principal characters are two cops, one Jewish and one Irish who deal with a racially charged area. The murder of an old Jewish shop owner who proves to be an ancient veteran of the Israeli Independence war triggers the Jewish identity in the mind and heart of the Jewish detective.<br /><br />This is were the flaws of the film are the more obvious. The process of awakening is theatrical and hard to believe, the group of Jewish militants is operatic, and the way the detective eventually walks to the final violent confrontation is pathetic. The end of the film itself is Mamet-like smart, but disappoints from a human emotional perspective.<br /><br />Joe Mantegna and William Macy give strong performances, but the flaws of the story are too evident to be easily compensated.\"\n",
            "Label 0\n",
            "Review b'Great documentary about the lives of NY firefighters during the worst terrorist attack of all time.. That reason alone is why this should be a must see collectors item.. What shocked me was not only the attacks, but the\"High Fat Diet\" and physical appearance of some of these firefighters. I think a lot of Doctors would agree with me that,in the physical shape they were in, some of these firefighters would NOT of made it to the 79th floor carrying over 60 lbs of gear. Having said that i now have a greater respect for firefighters and i realize becoming a firefighter is a life altering job. The French have a history of making great documentary\\'s and that is what this is, a Great Documentary.....'\n",
            "Label 1\n"
          ]
        }
      ]
    },
    {
      "cell_type": "code",
      "source": [
        "raw_val_ds = tf.keras.utils.text_dataset_from_directory(\n",
        "    'aclImdb/train',\n",
        "    batch_size = batch_size,\n",
        "    validation_split = 0.2,\n",
        "    subset = \"validation\",\n",
        "    seed = seed\n",
        ")"
      ],
      "metadata": {
        "id": "AJjJZKKPH00v",
        "colab": {
          "base_uri": "https://localhost:8080/"
        },
        "outputId": "48e44d96-bc2f-40f3-e1ec-4a6ae58a02b7"
      },
      "execution_count": 11,
      "outputs": [
        {
          "output_type": "stream",
          "name": "stdout",
          "text": [
            "Found 25000 files belonging to 2 classes.\n",
            "Using 5000 files for validation.\n"
          ]
        }
      ]
    },
    {
      "cell_type": "code",
      "source": [
        "for review_batch_val,label_batch_val in raw_val_ds.take(1):\n",
        "  for i in range(3):\n",
        "    print(\"review batch val\" , review_batch_val.numpy()[i])\n",
        "    print(\"Label Batch Val\" , label_batch_val.numpy()[i])\n"
      ],
      "metadata": {
        "colab": {
          "base_uri": "https://localhost:8080/"
        },
        "id": "0IJDPypgo_ar",
        "outputId": "305a9b20-4610-418a-e6e5-86dfd8de589f"
      },
      "execution_count": 12,
      "outputs": [
        {
          "output_type": "stream",
          "name": "stdout",
          "text": [
            "review batch val b'a friend gave it to me saying it was another classic like \"Debbie does Dallas\". Nowhere close. I think my main complaint is about the most unattractive lead actress in porn industry ever. Even more terrible is that she is on screen virtually all the time. But I read somewhere that back in those days, porn had to have some \"artistic\" value. I was unable to find it though. See it only if you are interested in history of development of porn into mainstream, or can appreciate art in porn movies. I know I am not. But the director of the movie appears to be a talented person. He even tried to get Simon & Garfunkel to give him permissions to use his songs. Of course, they rejected.'\n",
            "Label Batch Val 0\n",
            "review batch val b\"The scenes are fast-paced. the characters are great. I love Anne-Marie Johnson's acting. I really like the ending. <br /><br />However, I was disappointed that this movie didn't delve deeper into Achilles's and Athena's relationship. It only blossomed when they kissed each other.\"\n",
            "Label Batch Val 1\n",
            "review batch val b'Although i am inclined to agree with the other comments made by people who have seen this movie, i am ashamed to say i rather like it. Not often can such a huge pile of 80s pap be found outside of a Wham! video, so it is most definitely worth a viewing (\\xc2\\xa30.79 a night in my local store!). Watch out for the insanely obvious seams and zip on the monster\\'s costume, the fact that the \\'hero\\' looks a lot like Keith Chegwin and such classic lines as the following: Evil Wizard-Type Bloke: \"At last we meet Kor...\" Kor: \"Thrilling, isn\\'t it?\"<br /><br />Amazing!!I also like the fact that although the video box looks quite exciting with images of a castle surrounded by raging seas and a dangerous falcon-like bird carrying a handsome hero to safety (among other such \\'interesting and engaging\\' suggestions of what goes on in the actual film, none of them actually happen. No, I\\'m not joking...there really isn\\'t a raging sea or a ferocious bird, it\\'s just trying to make you interested...classic in my opinion. This film gets 10 for pure entertainment value!!'\n",
            "Label Batch Val 1\n"
          ]
        }
      ]
    },
    {
      "cell_type": "code",
      "source": [
        "raw_test_ds = tf.keras.utils.text_dataset_from_directory(\n",
        "        'aclImdb/test',\n",
        "        batch_size = batch_size\n",
        "\n",
        ")"
      ],
      "metadata": {
        "id": "gJizC-EqH1BF",
        "colab": {
          "base_uri": "https://localhost:8080/"
        },
        "outputId": "41717ca1-cfc7-4a5c-d867-45fca0752946"
      },
      "execution_count": 13,
      "outputs": [
        {
          "output_type": "stream",
          "name": "stdout",
          "text": [
            "Found 25000 files belonging to 2 classes.\n"
          ]
        }
      ]
    },
    {
      "cell_type": "code",
      "source": [
        "for review_batch_test , label_test in raw_test_ds.take(1):\n",
        "  for i in range(3):\n",
        "    print(\"Review Test Batch\" , review_batch_test.numpy()[i])\n",
        "    print(\"Label Test Batch\" , label_test.numpy()[i])"
      ],
      "metadata": {
        "colab": {
          "base_uri": "https://localhost:8080/"
        },
        "id": "YymD1gXFo7Jg",
        "outputId": "94473d04-9f3a-42b6-bd0e-e6edc830d629"
      },
      "execution_count": 14,
      "outputs": [
        {
          "output_type": "stream",
          "name": "stdout",
          "text": [
            "Review Test Batch b\"Inspired by Hitchcock's STRANGERS ON A TRAIN concept of two men swapping murders in exchange for getting rid of the two people messing up their lives, THROW MOMMA FROM THE TRAIN is an original and very inventive comedy take on the idea. It's a credit to Danny DeVito that he both wrote and starred in this minor comedy gem.<br /><br />ANNE RAMSEY is the mother who inspires the film's title and it's understandable why she gets under the skin of DANNY DeVITO with her sharp tongue and relentlessly putting him down for any minor infraction. BILLY CRYSTAL is the writer who's wife has stolen his book idea and is now being lionized as a great new author, even appearing on the Oprah show to bask in adulation he should be enjoying. Thus, DeVito gets the idea of swapping murders to rid themselves of these nuisance factors.<br /><br />Of course, everything and anything can happen when writer Carl Reiner lets his imagination roam with unending ideas for how the plot develops. And it's amusing all the way through, providing plenty of laughs and chuckles along the way, as well as a good deal of suspense.<br /><br />For devotees of black comedy, this one is guaranteed to please.\"\n",
            "Label Test Batch 1\n",
            "Review Test Batch b\"I'm sorry to say this but I didn't enjoy this movie at all. It was just too boring. So boring that I couldn't watch the rest of it. It's not as interesting as the Lion King or Aladdin. That's why I hate this stupid days because these days are just not what they used to be. The movies that Disney have released lately really sucks! I miss the old days when they used to produce good movies like the Lion King, Aladdin, Pocahontas, Cinderella, The Aristocats, and Robin Hood. This movie is really awful. I really tried my best to be interested in this movie but I just couldn't. I don't think I could recommend this film to anyone. I would recommend the ones that I just mention above.\"\n",
            "Label Test Batch 0\n",
            "Review Test Batch b\"Having read this story a while ago I was very excited to see the movie. I read the book again. It is one of my favorite Nicholas Sparks books. What I think what makes the story is the relationships. That was the down point for me in the movie because I think the relationships were poorly expressed in the movie. I have no idea what the point of changing main characters roles (Tim's and Alan's characters). The movie didn't at all capture John and Savannah's relationship. Maybe if you haven't read the book you might like this movie, but I thought it was so dull compared to the book. I thought Channing was a great pick for John,but I had a feeling he was going to bring all young adults out to watch it, so I think it was more geared towards them. The ending cuts the whole point of the book out so I was also unhappy with that. I was hoping the movie was more like the notebook or a walk to remember and the way they captured the books. I do feel like I wasted a Friday night out and 10 bucks on a sappy love story, not at all the story I was expecting to see.\"\n",
            "Label Test Batch 0\n"
          ]
        }
      ]
    },
    {
      "cell_type": "code",
      "source": [
        "#Veri Kümesini Eğitim İçin Hazirlama\n",
        "#1- Standardizasyon : Genellikle verileri basitlestirnek ve noktalama işaretleri yada html öğelerini kaldırmak için metnin ön işlenmesidir.\n",
        "#2-Belirteçleme (Tokenization): Dizeleri bölme anlamına gelir\n",
        "#3-Vectorleştirme : Tokenların bir sinir ağını beslemek için sayılara dönüştürülmesini ifade eder\n",
        "\n",
        "# ----> Veriler incelendiğinde <br/> gibi html ifadeleri bulunuyor.Bu ifadeler textvectorization tarafından kaldırılamaz.\n",
        "# TextVectorization işlemi noktalama işaretlerini kaldırır yada harflerin hepsini küçük harfe dönüştürür\n",
        "# Bu yüzden özel <br/> yi kaldırmak için özel kod düzenlememiz gerekecek\n",
        "\n",
        "\n",
        "#  Not: Eğitim-test çarpıklığını önlemek için (eğitim-hizmet eğriliği olarak da bilinir), veriyi tren ve test zamanında aynı şekilde önceden işlemek önemlidir.\n",
        "# Bunu kolaylaştırmak için, bu öğreticide daha sonra gösterildiği gibi, TextVectorization katmanı doğrudan modelinizin içine dahil edilebilir."
      ],
      "metadata": {
        "id": "dCDhj40Aq06y"
      },
      "execution_count": 15,
      "outputs": []
    },
    {
      "cell_type": "code",
      "source": [
        "def custom_standardization(input_data):  # fonsiyonu tanımladık\n",
        "  lowercase = tf.strings.lower(input_data)  # Metni küçük harfe çevirdik\n",
        "  stripped_html = tf.strings.regex_replace(lowercase, '<br />',' ' ) # Metnin sonunda bulunan <br /> ifadelerini \" \" boşlukla değiştiriyoruz\n",
        "  return tf.strings.regex_replace(stripped_html,\n",
        "                                 \"[%s]\" % re.escape(string.punctuation),'')\n",
        "\n",
        "  # tf.string.regex_replace değiştirmek için kullandık\n",
        "  # re.escape kaçış ifadelerini ekleme işini yapar \"\\\" sebebi noktalama işaretlerinin içerisinde örneğin \".\" ifadesini \"\\.\" ya çevirir\n",
        "   # string.punctuation içerinde noktalama işaretleri barındırır\n",
        "   # \"[s]\" yer tutucusu çnlerinde kaçış ifadeleri yer alan noktalama işaretlerin yerini tutar ve sonuç olarak tespit edilen noktalama işateleri boşluğa dönüştürürlür"
      ],
      "metadata": {
        "id": "-CAe28OJ4LgV"
      },
      "execution_count": 16,
      "outputs": []
    },
    {
      "cell_type": "code",
      "source": [
        "def custom_standardization(input_data):\n",
        "  lowercase = tf.strings.lower(input_data)\n",
        "  stripped_html = tf.strings.regex_replace(lowercase, '<br />', ' ')\n",
        "  return tf.strings.regex_replace(stripped_html,\n",
        "                                  '[%s]' % re.escape(string.punctuation),\n",
        "                                  '')"
      ],
      "metadata": {
        "id": "dmMNz7ZAj5FC"
      },
      "execution_count": 17,
      "outputs": []
    },
    {
      "cell_type": "code",
      "source": [
        "#Vectorization işlemi\n",
        "\n",
        "max_features = 10000 # en sık kullanılan kelime sayısı\n",
        "sequence_length = 250 # maç kelime uzunluğu\n",
        "\n",
        "vectorize_layer = layers.TextVectorization(   # TextVectorization katmanı oluşturup parametrelerini gireceğiz\n",
        "                                           standardize = custom_standardization, # Bir üst satırda tanımlamış olduğumuz standardizasyon kodu(metni kğçük harf yapar-html etiketlerini temizler-noktalama işaretlerini kaldırır)\n",
        "                                           max_tokens = max_features ,# en sık geçen 10000 kelimeyi dikkate alır\n",
        "                                              output_mode = \"int\", # Vectorization sonucunda her bir kelimeye int cinsinden bir değer atar.Bu değer kelimelerin indexlerini temsil eder\n",
        "                                              output_sequence_length = sequence_length # Her bir çıktının aynı uzunlukta olmasını sağlar.250 değeri olarak belirlenen değerden küçükse doldurulur,fazlaysa kesilir\n",
        "                                           )"
      ],
      "metadata": {
        "id": "sFWxJ5eW-GlI"
      },
      "execution_count": 18,
      "outputs": []
    },
    {
      "cell_type": "code",
      "source": [
        "# Verimizde cümle ve etiketi birlikte bulunuyor öncelikle sadece metin dosyalarını bir değişkene tanımlayacağız\n",
        "train_text = raw_train_ds.map(lambda x,y:x) # Bu satır sadece metin dosyalarını train_text değişkenine atar.ÖRneğin:[(\"Bugün hava çok güzel\",1),(\"Hava yağışlu olacak\",1)] verilerini [\"Bugün hava çok güzel\",\"Hava yağışlı olacak\"] tipine dönüştürür\n",
        "\n",
        "# Metinlerdeki en çok kullanılan kelimelere dikkat ederek sayısal verilere dönüştürelim\n",
        "# Bunun için adapt fonksiyonunu kullanıyoruz\n",
        "\n",
        "vectorize_layer.adapt(train_text)\n",
        "# adapt fonksiyonu metinleri işleyerek belirlediğimiz parametrelere uygun olarak metinleri indexleme işlemi yapar\n",
        "\n",
        "# Örnek olarak train_text =[\"Selam Arkadaşlar\",\"Arkadaşlarlar hoşgeldiniz\",\"Selam hoşgeldiniz\"] verileri olsun\n",
        "# Yapacağı işlem \"Selam\" ---> 1 ,\"Arkadaşlar\"---->2 , \"hoşgeldiniz\" ---->3 şeklinde tanımlar\n",
        "# [\"Arkadaşlar Selam\"] ----- [2,1] şeklinde çıktı almamızı sağlar"
      ],
      "metadata": {
        "id": "CgDFZYQNwvmT"
      },
      "execution_count": 19,
      "outputs": []
    },
    {
      "cell_type": "code",
      "source": [
        "# Bunun nasıl çalıştığını anlamak için veri üzerinde gösterelim\n",
        "def vectorize_text(text,label): # text ve label paramtresi alan fonksiyonu tanımladık\n",
        "  text = tf.expand_dims(text,-1)  # Tensore yeni bir boyut ekledik.TextVectorizationda verilerin işlenmesi için 2 boyulu hale getiriyoruz\n",
        "  return vectorize_layer(text),label # Metni vectorize ediyoruz yani en sık kullanılan kelimeleri indexleme işlemi yapıyoruz.Label için işlem yapmıyoruz orjinal(0-1) şeklinde kalıyor\n",
        "\n",
        "# Not: \"expand_dim\" TextVectorization katmanının giriş formatı iki boyutlu dizi alacağı için tek boyutlu metin verilerimizi iki boyutlu hale getirmemiz gerekiyor\n",
        "# tf.expand_dims çalışma mantığı ----> tf.expand_dims(tensor,axis)---tf.expand_dims(text,-1) text değişkeninin sonuna(-1 sonunu ifade eder,-2 sondan 2.boyut) boyut ekleme işlemi yapar\n",
        "# Örneğin; text = [\"Selam Nasılsın\",\"Merhaba Adanalı\"] bu tek boyutlu bir değişken olup text.shape = (2,) dir.\n",
        "# tf.expand_dims(text,-1) uygulandıktan sonra [[\"Selam Nasılsın\"],[\"Merhaba Adanalı\"]] ---> text.shape = (2,1) haline gelir.Yani 2 satır ve 1 sütundan oluşan bir matris gibi düşünelim\n"
      ],
      "metadata": {
        "id": "ouVOC7w50Jxn"
      },
      "execution_count": 20,
      "outputs": []
    },
    {
      "cell_type": "code",
      "source": [
        "text_batch,label_batch = next(iter(raw_train_ds)) # iter fonksiyonu raw_train_ds içerisinde bir döngü oluşturur.(next) bir sonraki sıradaki döngüye geçirir/text_batch ve label_batch değişkenine sırayla atanırlar\n",
        "first_review , first_label = text_batch[0],label_batch[0] # Bu verimiz için ilk eleştiri yazısını ve onun olumlu yada olumsuz olmasını belirten etikeni tanımlar\n",
        "print(\"Review\" , first_review)\n",
        "print(\"Label\",raw_train_ds.class_names[first_label])\n",
        "print(\"Vectorized Review\" , vectorize_text(first_review,first_label))"
      ],
      "metadata": {
        "id": "m86qI47m0tl5",
        "colab": {
          "base_uri": "https://localhost:8080/"
        },
        "outputId": "393e8fe8-676c-4ae0-8c98-1763d26171d7"
      },
      "execution_count": 21,
      "outputs": [
        {
          "output_type": "stream",
          "name": "stdout",
          "text": [
            "Review tf.Tensor(b'Great movie - especially the music - Etta James - \"At Last\". This speaks volumes when you have finally found that special someone.', shape=(), dtype=string)\n",
            "Label neg\n",
            "Vectorized Review (<tf.Tensor: shape=(1, 250), dtype=int64, numpy=\n",
            "array([[  86,   17,  260,    2,  222,    1,  571,   31,  229,   11, 2418,\n",
            "           1,   51,   22,   25,  404,  251,   12,  306,  282,    0,    0,\n",
            "           0,    0,    0,    0,    0,    0,    0,    0,    0,    0,    0,\n",
            "           0,    0,    0,    0,    0,    0,    0,    0,    0,    0,    0,\n",
            "           0,    0,    0,    0,    0,    0,    0,    0,    0,    0,    0,\n",
            "           0,    0,    0,    0,    0,    0,    0,    0,    0,    0,    0,\n",
            "           0,    0,    0,    0,    0,    0,    0,    0,    0,    0,    0,\n",
            "           0,    0,    0,    0,    0,    0,    0,    0,    0,    0,    0,\n",
            "           0,    0,    0,    0,    0,    0,    0,    0,    0,    0,    0,\n",
            "           0,    0,    0,    0,    0,    0,    0,    0,    0,    0,    0,\n",
            "           0,    0,    0,    0,    0,    0,    0,    0,    0,    0,    0,\n",
            "           0,    0,    0,    0,    0,    0,    0,    0,    0,    0,    0,\n",
            "           0,    0,    0,    0,    0,    0,    0,    0,    0,    0,    0,\n",
            "           0,    0,    0,    0,    0,    0,    0,    0,    0,    0,    0,\n",
            "           0,    0,    0,    0,    0,    0,    0,    0,    0,    0,    0,\n",
            "           0,    0,    0,    0,    0,    0,    0,    0,    0,    0,    0,\n",
            "           0,    0,    0,    0,    0,    0,    0,    0,    0,    0,    0,\n",
            "           0,    0,    0,    0,    0,    0,    0,    0,    0,    0,    0,\n",
            "           0,    0,    0,    0,    0,    0,    0,    0,    0,    0,    0,\n",
            "           0,    0,    0,    0,    0,    0,    0,    0,    0,    0,    0,\n",
            "           0,    0,    0,    0,    0,    0,    0,    0,    0,    0,    0,\n",
            "           0,    0,    0,    0,    0,    0,    0,    0,    0,    0,    0,\n",
            "           0,    0,    0,    0,    0,    0,    0,    0]])>, <tf.Tensor: shape=(), dtype=int32, numpy=0>)\n"
          ]
        }
      ]
    },
    {
      "cell_type": "markdown",
      "source": [
        "get_vocabulary() kullanarak tam sayilarin hangi kelimeyi temsil ettigini gorelim"
      ],
      "metadata": {
        "id": "rZmyxnyGkt6N"
      }
    },
    {
      "cell_type": "code",
      "source": [
        "print('8555------>', vectorize_layer.get_vocabulary()[8555])\n",
        "print('4619------>',vectorize_layer.get_vocabulary()[4619])\n",
        "print('2-------->',vectorize_layer.get_vocabulary()[2])\n",
        "print('vocabulary Size {}'.format(len(vectorize_layer.get_vocabulary()))) # toplam indexlenen kelime sayisi"
      ],
      "metadata": {
        "colab": {
          "base_uri": "https://localhost:8080/"
        },
        "id": "EYU1NbKLWZAB",
        "outputId": "2238f926-101b-41bb-b3d6-c3ab3a6ecc82"
      },
      "execution_count": 22,
      "outputs": [
        {
          "output_type": "stream",
          "name": "stdout",
          "text": [
            "8555------> varying\n",
            "4619------> exchange\n",
            "2--------> the\n",
            "vocabulary Size 10000\n"
          ]
        }
      ]
    },
    {
      "cell_type": "code",
      "source": [
        "#simdi train,test ve validation veri setlerimize vectorlestirme islemi uygulayalim\n",
        "\n",
        "train_ds = raw_train_ds.map(vectorize_text)\n",
        "val_ds = raw_val_ds.map(vectorize_text)\n",
        "test_ds = raw_test_ds.map(vectorize_text)"
      ],
      "metadata": {
        "id": "r_Vvv_MAWYQs"
      },
      "execution_count": 23,
      "outputs": []
    },
    {
      "cell_type": "code",
      "source": [
        "#PERFORMANS İCİN VERİ KUMESİNİ YAPİLANDİRALİM\n",
        "AUTOTUNE = tf.data.AUTOTUNE\n",
        "\n",
        "train_ds=train_ds.cache().prefetch(buffer_size=AUTOTUNE)\n",
        "val_ds = val_ds.cache().prefetch(buffer_size=AUTOTUNE)\n",
        "test_ds = test_ds.cache().prefetch(buffer_size=AUTOTUNE)\n",
        "\n",
        "#cache() metodu verisetini onbellege alma islemi yapar.Parametre olarak dosya yolu verilmezse bellege onbellege alir\n",
        "# prefetch() bir sonraki batch(partinin) bir onceki batch in egitimi sirasinda yapmak icin kullanilir.BU yöntem CPU,GPU kaynaklarinin daha verimli calismasini saglar\n",
        "# prefetch() metodunun parametresi olan buffer_size = AUTOTUNE kac partinin onceden getirilecegine karar verir.AUTOTUNE kullanildiginda tensorflow bunu otomatik belirler"
      ],
      "metadata": {
        "id": "FwBtYasZWio8"
      },
      "execution_count": 24,
      "outputs": []
    },
    {
      "cell_type": "markdown",
      "source": [
        "MODEL OLUSTURMA"
      ],
      "metadata": {
        "id": "6oFGqXDzwKKV"
      }
    },
    {
      "cell_type": "code",
      "source": [
        "embedding_dim = 16"
      ],
      "metadata": {
        "id": "y49u2A8DWj-4"
      },
      "execution_count": 25,
      "outputs": []
    },
    {
      "cell_type": "code",
      "source": [
        "model = tf.keras.Sequential([\n",
        "  layers.Embedding(max_features+1,embedding_dim), # Kelimeleri vector uzayda konumlandırmak için kullanırız -- embedding_dim gömme boyutu her kelime 16 boyutlu vector ile temsil edilir 1001 kelime 16 boyut\n",
        "  layers.Dropout(0,2), # overfitting önlemek için noronların %20 si her iterasyonda rastgele sıfırlanır\n",
        "  layers.GlobalAveragePooling1D(), # Bu katman 2 boyutlu matrisi tek boyuta çevirir.Örneğini aşağıda anlattım\n",
        "  layers.Dropout(0.2), # overfitting için %20 si sıfırlandı\n",
        "  layers.Dense(1) # Tek bir çıktı verir.Binary 0-1\n",
        "])\n",
        "\n",
        "model.summary()"
      ],
      "metadata": {
        "id": "4GzLmewAWlHd",
        "colab": {
          "base_uri": "https://localhost:8080/"
        },
        "outputId": "ea9571b2-def1-4c21-eb25-5c3ecd0bdf29"
      },
      "execution_count": 26,
      "outputs": [
        {
          "output_type": "stream",
          "name": "stdout",
          "text": [
            "Model: \"sequential\"\n",
            "_________________________________________________________________\n",
            " Layer (type)                Output Shape              Param #   \n",
            "=================================================================\n",
            " embedding (Embedding)       (None, None, 16)          160016    \n",
            "                                                                 \n",
            " dropout (Dropout)           (None, None, 16)          0         \n",
            "                                                                 \n",
            " global_average_pooling1d (  (None, 16)                0         \n",
            " GlobalAveragePooling1D)                                         \n",
            "                                                                 \n",
            " dropout_1 (Dropout)         (None, 16)                0         \n",
            "                                                                 \n",
            " dense (Dense)               (None, 1)                 17        \n",
            "                                                                 \n",
            "=================================================================\n",
            "Total params: 160033 (625.13 KB)\n",
            "Trainable params: 160033 (625.13 KB)\n",
            "Non-trainable params: 0 (0.00 Byte)\n",
            "_________________________________________________________________\n"
          ]
        }
      ]
    },
    {
      "cell_type": "markdown",
      "source": [
        "GlobalAveragePooling1D işleyişi : elimizde (100,16) lık bir veri örneği olsun.100 satır ve 16 özellik(sütun) dan oluşuyor.Aamaç tek boyuta düşürmek.Bunun için her zaman adımı için yani her sütun için ortalamasını alırız.--1sütundaki değer ortalama,2.sütun değerleri ortalama.... 16.sütun değerlerinin ortalaması ve sonuçta (16,) yani tek boyutlu 16 değerden oluşan bir çıktı elde ederiz.batch sayısı 32 genelde alınır ve bunu her seferinde 32 örnek için tek boyut olarak çıkarırız."
      ],
      "metadata": {
        "id": "WlpS5bND2zm_"
      }
    },
    {
      "cell_type": "code",
      "source": [
        "# Bir model eğitim işlemi için bir kayıp işlevine ve optimize ediciye ihtiyaç duyar\n",
        "# Bu bir binary sınıflandırma olduğundan ve model olasılık (sigmoid aktivasyonlu tek birimli katman) olduğundan losses.BinaryCrossEntropy kullanacaz\n",
        "\n",
        "model.compile(loss = losses.BinaryCrossentropy(from_logits = True),\n",
        "              optimizer = \"adam\",\n",
        "              metrics =tf.metrics.BinaryAccuracy(threshold = 0.0)\n",
        "              )"
      ],
      "metadata": {
        "id": "XWYIV0zRbFNf"
      },
      "execution_count": 27,
      "outputs": []
    },
    {
      "cell_type": "code",
      "source": [
        "# model eğitimi\n",
        "epochs = 10\n",
        "\n",
        "history = model.fit(\n",
        "    train_ds,\n",
        "    validation_data = val_ds,\n",
        "    epochs = epochs\n",
        ")"
      ],
      "metadata": {
        "colab": {
          "base_uri": "https://localhost:8080/"
        },
        "id": "LfZ6K3DpHrHM",
        "outputId": "d7e9f723-3894-44c7-8dad-1c23b18a4b4c"
      },
      "execution_count": 28,
      "outputs": [
        {
          "output_type": "stream",
          "name": "stdout",
          "text": [
            "Epoch 1/10\n",
            "625/625 [==============================] - 9s 13ms/step - loss: 0.6639 - binary_accuracy: 0.6956 - val_loss: 0.6131 - val_binary_accuracy: 0.7718\n",
            "Epoch 2/10\n",
            "625/625 [==============================] - 4s 6ms/step - loss: 0.5433 - binary_accuracy: 0.8033 - val_loss: 0.4919 - val_binary_accuracy: 0.8232\n",
            "Epoch 3/10\n",
            "625/625 [==============================] - 5s 8ms/step - loss: 0.4373 - binary_accuracy: 0.8483 - val_loss: 0.4133 - val_binary_accuracy: 0.8492\n",
            "Epoch 4/10\n",
            "625/625 [==============================] - 4s 7ms/step - loss: 0.3706 - binary_accuracy: 0.8697 - val_loss: 0.3677 - val_binary_accuracy: 0.8620\n",
            "Epoch 5/10\n",
            "625/625 [==============================] - 4s 7ms/step - loss: 0.3275 - binary_accuracy: 0.8818 - val_loss: 0.3398 - val_binary_accuracy: 0.8674\n",
            "Epoch 6/10\n",
            "625/625 [==============================] - 4s 6ms/step - loss: 0.2973 - binary_accuracy: 0.8920 - val_loss: 0.3215 - val_binary_accuracy: 0.8730\n",
            "Epoch 7/10\n",
            "625/625 [==============================] - 4s 7ms/step - loss: 0.2732 - binary_accuracy: 0.9006 - val_loss: 0.3089 - val_binary_accuracy: 0.8740\n",
            "Epoch 8/10\n",
            "625/625 [==============================] - 4s 6ms/step - loss: 0.2544 - binary_accuracy: 0.9071 - val_loss: 0.3004 - val_binary_accuracy: 0.8764\n",
            "Epoch 9/10\n",
            "625/625 [==============================] - 4s 6ms/step - loss: 0.2381 - binary_accuracy: 0.9147 - val_loss: 0.2944 - val_binary_accuracy: 0.8786\n",
            "Epoch 10/10\n",
            "625/625 [==============================] - 6s 9ms/step - loss: 0.2230 - binary_accuracy: 0.9207 - val_loss: 0.2905 - val_binary_accuracy: 0.8796\n"
          ]
        }
      ]
    },
    {
      "cell_type": "markdown",
      "source": [
        "MODEL DEĞERLENDİRMESİ"
      ],
      "metadata": {
        "id": "ClijO4snJ5CV"
      }
    },
    {
      "cell_type": "code",
      "source": [
        "# Model Değerlendirmesi için iki değere bakalım\n",
        "# Model kaybı (loss) ----> kayıp ne kadar küçükse o kadar iyidir\n",
        "# Doğruluk(accuracy)\n",
        "\n",
        "loss , accuracy = model.evaluate(test_ds)\n",
        "\n",
        "print(\"Loss :\",loss)\n",
        "print(\"Accuracy :\" , accuracy)\n"
      ],
      "metadata": {
        "colab": {
          "base_uri": "https://localhost:8080/"
        },
        "id": "Vm_3NdR9H9Bm",
        "outputId": "1ceaba7f-3c1a-4ad1-8575-f900ab6334f5"
      },
      "execution_count": 29,
      "outputs": [
        {
          "output_type": "stream",
          "name": "stdout",
          "text": [
            "782/782 [==============================] - 4s 5ms/step - loss: 0.3090 - binary_accuracy: 0.8734\n",
            "Loss : 0.3090166747570038\n",
            "Accuracy : 0.8733999729156494\n"
          ]
        }
      ]
    },
    {
      "cell_type": "code",
      "source": [
        "# Doğruluk ve kayıp grafiği oluşturalım\n",
        "# model.fit() eğitim sırasında olan her şeyi içeren bir sözlük oluşturur.\n",
        "history_dict = history.history\n",
        "history_dict.keys()"
      ],
      "metadata": {
        "colab": {
          "base_uri": "https://localhost:8080/"
        },
        "id": "hrsIYw42Kmbs",
        "outputId": "45efc331-1409-48e7-dc49-6d4c9a7cdbdc"
      },
      "execution_count": 30,
      "outputs": [
        {
          "output_type": "execute_result",
          "data": {
            "text/plain": [
              "dict_keys(['loss', 'binary_accuracy', 'val_loss', 'val_binary_accuracy'])"
            ]
          },
          "metadata": {},
          "execution_count": 30
        }
      ]
    },
    {
      "cell_type": "markdown",
      "source": [
        "Dört giriş bulunur.Bunları ;\n",
        "\n",
        "\n",
        "*   Karşılaştırma\n",
        "*   Eğitim ve Doğrulana kaybı\n",
        "*   Eğitim ve Doğrulama Doğruluğu\n",
        "\n",
        "için kullanabiliriz\n",
        "\n"
      ],
      "metadata": {
        "id": "uRjSk0ubNJMa"
      }
    },
    {
      "cell_type": "code",
      "source": [
        "acc = history_dict[\"binary_accuracy\"]\n",
        "val_acc = history_dict[\"val_binary_accuracy\"]\n",
        "loss = history_dict[\"loss\"]\n",
        "val_loss = history_dict[\"val_loss\"]\n",
        "\n",
        "\n",
        "epochs = range(1,len(acc)+1)\n",
        "\n",
        "# \"bo\" is for \"blue dot\"\n",
        "plt.plot(epochs,loss,\"bo\",label = \"Training Loss\")\n",
        "# \"b\" is for \"solid blue line\"\n",
        "plt.plot(epochs,val_loss,\"b\",label = \"Validation Loss\")\n",
        "plt.title(\"Training and Validation Loss\")\n",
        "plt.xlabel(\"Epochs\")\n",
        "plt.ylabel(\"Loss\")\n",
        "plt.legend()\n",
        "plt.show()"
      ],
      "metadata": {
        "colab": {
          "base_uri": "https://localhost:8080/",
          "height": 472
        },
        "id": "wGzYt4ZzM9lW",
        "outputId": "633b4451-07f5-444b-e63d-e32807004707"
      },
      "execution_count": 31,
      "outputs": [
        {
          "output_type": "display_data",
          "data": {
            "text/plain": [
              "<Figure size 640x480 with 1 Axes>"
            ],
            "image/png": "[encoded data removed]"
          },
          "metadata": {}
        }
      ]
    },
    {
      "cell_type": "code",
      "source": [
        "# Doğruluk için çizelim\n",
        "\n",
        "plt.plot(epochs,acc,\"bo\",label = \"Training Accuracy\")\n",
        "plt.plot(epochs,val_acc,\"b\",label = \"Validation Accuracy\")\n",
        "plt.title(\"Training and Validation Accuracy\")\n",
        "plt.xlabel(\"Epochs\")\n",
        "plt.ylabel(\"Accuracy\")\n",
        "plt.legend(loc = \"lower right\")\n",
        "plt.show()"
      ],
      "metadata": {
        "colab": {
          "base_uri": "https://localhost:8080/",
          "height": 472
        },
        "id": "HHW8TLcNQALi",
        "outputId": "564d043d-b35b-435a-f949-0dc649da089c"
      },
      "execution_count": 32,
      "outputs": [
        {
          "output_type": "display_data",
          "data": {
            "text/plain": [
              "<Figure size 640x480 with 1 Axes>"
            ],
            "image/png": "[encoded data removed]"
          },
          "metadata": {}
        }
      ]
    },
    {
      "cell_type": "markdown",
      "source": [
        "Doğrulama kaybı ve doğrulama doğruluğu eğitim doğruluğundan önce zirveye ulaşıyor.Bu overfitting 'e bir örnektir.Bu yüzden train verilerinde daha önce görmediği verilere nazaran daha iyi bir performans gösterecektir.Bu noktadan sonra model aşırı optimizasyon yapar ve test verilerine genelleme yapmayan,eğtim verilerine özgü temsiller öğrenir\n",
        "\n",
        "Bu sorunu engellemek için validation accuracy artık artmadığında eğitimi durdurmak overfitting i önleyebilir.Bunun içinde tf.keras.callbacks.EarlyStopping kullanılmalıdır."
      ],
      "metadata": {
        "id": "CQM3CEUvWB8H"
      }
    },
    {
      "cell_type": "code",
      "source": [
        "# # EarlyStopping Kullanarak gözlemleyelim\n",
        "# # model eğitimi\n",
        "# epochs = 10\n",
        "\n",
        "# callback = tf.keras.callbacks.EarlyStopping(patience =3,monitor = \"val_binary_accuracy\") # patience : ardı ardına 3 epoch da değişim görünmezse durdur anlamına gelir.Monitor parametreside izlenecek takip edeceği değeri belirmemizi sağlar\n",
        "\n",
        "# history = model.fit(\n",
        "#     train_ds,\n",
        "#     validation_data = val_ds,\n",
        "#     epochs = epochs,\n",
        "#     callbacks = [callback]\n",
        "# )"
      ],
      "metadata": {
        "id": "3uuYdqhCV4qW"
      },
      "execution_count": 33,
      "outputs": []
    },
    {
      "cell_type": "code",
      "source": [
        "# # Tekrar kayıp ve doğruluklara bakalım\n",
        "# loss , accuracy = model.evaluate(test_ds)\n",
        "\n",
        "# print(\"Loss\" ,loss)\n",
        "# print(\"Accuracy:\",accuracy)"
      ],
      "metadata": {
        "id": "IkwuOVbmZHqL"
      },
      "execution_count": 34,
      "outputs": []
    },
    {
      "cell_type": "markdown",
      "source": [
        "EXPORT THE MODEL\n",
        "*   Yukarıdaki modelde verileri modelde eğitmeden önce TextVectorization işleminden geçirdik.Bunu manuel olarak yaptık.Eğer ham verileri tahmin etmek istiyorsak bu textvectorization işlemini modele dahil etmemiz gerekiyor."
      ],
      "metadata": {
        "id": "7TSIF7ZnfnZG"
      }
    },
    {
      "cell_type": "code",
      "source": [
        "# Modele Vectorize katmanı eklemek\n",
        "# Bunun için eğittiğimiz modeldeki ağırlıkları kullanarak yeni model üretebiliriz\n",
        "\n",
        "export_model = tf.keras.Sequential([\n",
        "    vectorize_layer,\n",
        "    model,\n",
        "    layers.Activation(\"sigmoid\")\n",
        "])\n",
        "\n",
        "export_model.compile(\n",
        "    loss = losses.BinaryCrossentropy(from_logits = False),\n",
        "    optimizer = \"adam\",\n",
        "    metrics = [\"accuracy\"]\n",
        ")\n",
        "\n",
        "loss , accuracy = export_model.evaluate(raw_test_ds)\n",
        "print(\"Accuracy\" , accuracy)\n",
        "print(\"Loss\",loss)"
      ],
      "metadata": {
        "colab": {
          "base_uri": "https://localhost:8080/"
        },
        "id": "haJPEU4beVOK",
        "outputId": "59c05181-7b13-4346-8deb-f9c38a8b24fa"
      },
      "execution_count": 35,
      "outputs": [
        {
          "output_type": "stream",
          "name": "stdout",
          "text": [
            "782/782 [==============================] - 6s 8ms/step - loss: 0.3090 - accuracy: 0.8734\n",
            "Accuracy 0.8733999729156494\n",
            "Loss 0.30901670455932617\n"
          ]
        }
      ]
    },
    {
      "cell_type": "code",
      "source": [
        "# Yeni veriler üzerinden modelimizin tahminlerini alalım\n",
        "\n",
        "examples = [\n",
        "    \"The movie was amazing!\",\n",
        "    \"The movie unbelievable\",\n",
        "    \"The Tron is awesome \",\n",
        "    \"The movie is terrible\",\n",
        "    \"The oppenheimer movie was so bad\"\n",
        "\n",
        "]\n",
        "\n",
        "export_model.predict(examples)"
      ],
      "metadata": {
        "colab": {
          "base_uri": "https://localhost:8080/"
        },
        "id": "HKQQDNHOhgV5",
        "outputId": "76393854-7b36-43b2-939b-a9781c37b742"
      },
      "execution_count": 36,
      "outputs": [
        {
          "output_type": "stream",
          "name": "stdout",
          "text": [
            "1/1 [==============================] - 0s 148ms/step\n"
          ]
        },
        {
          "output_type": "execute_result",
          "data": {
            "text/plain": [
              "array([[0.62251306],\n",
              "       [0.42171818],\n",
              "       [0.5941284 ],\n",
              "       [0.36475748],\n",
              "       [0.33907548]], dtype=float32)"
            ]
          },
          "metadata": {},
          "execution_count": 36
        }
      ]
    },
    {
      "cell_type": "markdown",
      "source": [
        "NOT(Önemli)!!! : TextVectorization katmanını modelin içinde ve dışında kullanmak arasında performans farkı vardır.\n",
        "*  Dışında kullanmak GPU ' da eğitirken verileri eş zamansız CPU işlemesine ve ara belleğe alınmasını sağler.\n",
        "\n",
        "*  Dolayısıyle model GPU üzerinden eğitilirken modeli geliştirmek ve en iyi performansı elde etmek için TextVectorizasyon katmanı model dışında kullanılır ve dağıtıma hazır olduğunda modele dahil edilir."
      ],
      "metadata": {
        "id": "Ho6nqY1KjPxn"
      }
    },
    {
      "cell_type": "markdown",
      "source": [
        "Source : \"www.tensorflow.org\""
      ],
      "metadata": {
        "id": "k0t3VV9pmECL"
      }
    }
  ]
}