{
  "nbformat": 4,
  "nbformat_minor": 0,
  "metadata": {
    "colab": {
      "provenance": [],
      "authorship_tag": "ABX9TyNH5Bb3lz9tZp/s5WEZu4dG"
    },
    "kernelspec": {
      "name": "python3",
      "display_name": "Python 3"
    },
    "language_info": {
      "name": "python"
    }
  },
  "cells": [
    {
      "cell_type": "markdown",
      "source": [
        "SENTİMENT ANALYSİS"
      ],
      "metadata": {
        "id": "zjpdtRcIDNQ4"
      }
    },
    {
      "cell_type": "code",
      "execution_count": 1,
      "metadata": {
        "id": "YS9jgzR06s5X"
      },
      "outputs": [],
      "source": [
        "# Düz bir metin deposundan duygu analizi yapmak için ikili sınıflandırma yapılacak\n",
        "# Datasets : IMDB"
      ]
    },
    {
      "cell_type": "code",
      "source": [
        "# IMPORTING LIBRARIES\n",
        "import matplotlib.pyplot as plt\n",
        "import os\n",
        "import re\n",
        "import shutil\n",
        "import string\n",
        "import tensorflow as tf\n",
        "\n",
        "\n",
        "from tensorflow.keras import layers\n",
        "from tensorflow.keras import losses"
      ],
      "metadata": {
        "id": "3JiO1ONHChaR"
      },
      "execution_count": 1,
      "outputs": []
    },
    {
      "cell_type": "code",
      "source": [
        "# fFilm eleştiri metinlerine göre olumlu yada olumsuz olarak sınıflandırılacak\n",
        "# IMDB 50000 film incelemesinin metnini içeren Large Movie Review Dataset kullanılacak\n",
        "# Train_Set = 25000-------------- Test_Set = 25000 /// Olumlu olumsuz yorumlar dengeli bir şekilde dağılmıştır"
      ],
      "metadata": {
        "id": "eQwLtlkNDIxm"
      },
      "execution_count": 3,
      "outputs": []
    },
    {
      "cell_type": "code",
      "source": [
        "url = \"https://ai.stanford.edu/~amaas/data/sentiment/aclImdb_v1.tar.gz\"\n",
        "\n",
        "dataset = tf.keras.utils.get_file(\"aclImdb_v1\", url,\n",
        "                                    untar=True, cache_dir='.',\n",
        "                                    cache_subdir='')\n",
        "\n",
        "dataset_dir = os.path.join(os.path.dirname(dataset), 'aclImdb')"
      ],
      "metadata": {
        "id": "RCQPyNW3D8Ji"
      },
      "execution_count": 2,
      "outputs": []
    },
    {
      "cell_type": "code",
      "source": [
        "os.listdir(dataset_dir)"
      ],
      "metadata": {
        "colab": {
          "base_uri": "https://localhost:8080/"
        },
        "id": "G2NpbtcYFNaB",
        "outputId": "c6c18c5f-f103-4ebc-e0a6-fb85de2f92a1"
      },
      "execution_count": 3,
      "outputs": [
        {
          "output_type": "execute_result",
          "data": {
            "text/plain": [
              "['imdb.vocab', 'README', 'test', 'imdbEr.txt', 'train']"
            ]
          },
          "metadata": {},
          "execution_count": 3
        }
      ]
    },
    {
      "cell_type": "code",
      "source": [
        "# Train klasörünü oluşturalım\n",
        "\n",
        "train_dir = os.path.join(dataset_dir,\"train\")\n",
        "os.listdir(train_dir)"
      ],
      "metadata": {
        "colab": {
          "base_uri": "https://localhost:8080/"
        },
        "id": "BYCl9b1EFnLV",
        "outputId": "7aec12b2-c22b-40c8-95c0-082e72a0d74f"
      },
      "execution_count": 4,
      "outputs": [
        {
          "output_type": "execute_result",
          "data": {
            "text/plain": [
              "['unsup',\n",
              " 'neg',\n",
              " 'urls_pos.txt',\n",
              " 'unsupBow.feat',\n",
              " 'urls_neg.txt',\n",
              " 'urls_unsup.txt',\n",
              " 'labeledBow.feat',\n",
              " 'pos']"
            ]
          },
          "metadata": {},
          "execution_count": 4
        }
      ]
    },
    {
      "cell_type": "code",
      "source": [
        "# Train klasöründeki pos ve neg klasörleri olumlu ve olumsuz metinleri içerir\n",
        "# Birini inceleyelim\n",
        "\n",
        "sample_file = os.path.join(train_dir,\"pos/1181_9.txt\")\n",
        "with open(sample_file) as f:\n",
        "  print(f.read())"
      ],
      "metadata": {
        "colab": {
          "base_uri": "https://localhost:8080/"
        },
        "id": "JrI-cYUxFzyb",
        "outputId": "ef72906d-8b69-4143-de27-daeadf873bcd"
      },
      "execution_count": 53,
      "outputs": [
        {
          "output_type": "stream",
          "name": "stdout",
          "text": [
            "Rachel Griffiths writes and directs this award winning short film. A heartwarming story about coping with grief and cherishing the memory of those we've loved and lost. Although, only 15 minutes long, Griffiths manages to capture so much emotion and truth onto film in the short space of time. Bud Tingwell gives a touching performance as Will, a widower struggling to cope with his wife's death. Will is confronted by the harsh reality of loneliness and helplessness as he proceeds to take care of Ruth's pet cow, Tulip. The film displays the grief and responsibility one feels for those they have loved and lost. Good cinematography, great direction, and superbly acted. It will bring tears to all those who have lost a loved one, and survived.\n"
          ]
        }
      ]
    },
    {
      "cell_type": "code",
      "source": [
        "# Verileri diskten yükleyelim ve uygun bir formata çevireceğiz\n",
        "# Hazırlayacağımız format tf.keras.preprocessing içerisinde yer alan text_dataset_form_directory için olacak\n",
        "# İki sınıftan oluşacak class_a ve class_b şeklinde tabiki bu uygulamamız için train klasörünün içerisindeki \"pos\" ve \"neg\" sınıfları olarak ayarlayacaz\n",
        "# Bu iki sınıftan hariç diğer dosyaları kaldıracaz\n",
        "\n",
        "remove_dir = os.path.join(train_dir,\"unsup\")\n",
        "shutil.rmtree(remove_dir)"
      ],
      "metadata": {
        "id": "gCU_w2ShGxSy"
      },
      "execution_count": 5,
      "outputs": []
    },
    {
      "cell_type": "code",
      "source": [
        "#Veri kümesini 3 bölüme ayırmamız gerekiyor train-test-validation\n",
        "#Zaten veri train ve test içeriyor\n",
        "#egitim veri setini 80-20 olarak bölelim\n",
        "\n",
        "\n",
        "batch_size =32\n",
        "seed =42\n",
        "raw_train_ds = tf.keras.utils.text_dataset_from_directory(\n",
        "    'aclImdb/train',\n",
        "    batch_size = batch_size,\n",
        "    validation_split = 0.2,\n",
        "    subset = \"training\",\n",
        "    seed = seed\n",
        ")"
      ],
      "metadata": {
        "id": "B_Od7DQFH0Im",
        "colab": {
          "base_uri": "https://localhost:8080/"
        },
        "outputId": "793591f2-6a0a-4b80-a19c-ed0ef5df9765"
      },
      "execution_count": 6,
      "outputs": [
        {
          "output_type": "stream",
          "name": "stdout",
          "text": [
            "Found 25000 files belonging to 2 classes.\n",
            "Using 20000 files for training.\n"
          ]
        }
      ]
    },
    {
      "cell_type": "code",
      "source": [
        "# Veri setini inceleyelim\n",
        "for text_batch,label_batch in raw_train_ds.take(1):\n",
        "  for i in range(3):\n",
        "    print(\"Review\" , text_batch.numpy()[i])\n",
        "    print(\"Label\" , label_batch.numpy()[i])"
      ],
      "metadata": {
        "id": "opz7I3VLH0k1",
        "colab": {
          "base_uri": "https://localhost:8080/"
        },
        "outputId": "89bfc7b5-61ea-49a7-aa73-6ac9215dc3ea"
      },
      "execution_count": 56,
      "outputs": [
        {
          "output_type": "stream",
          "name": "stdout",
          "text": [
            "Review b'\"Pandemonium\" is a horror movie spoof that comes off more stupid than funny. Believe me when I tell you, I love comedies. Especially comedy spoofs. \"Airplane\", \"The Naked Gun\" trilogy, \"Blazing Saddles\", \"High Anxiety\", and \"Spaceballs\" are some of my favorite comedies that spoof a particular genre. \"Pandemonium\" is not up there with those films. Most of the scenes in this movie had me sitting there in stunned silence because the movie wasn\\'t all that funny. There are a few laughs in the film, but when you watch a comedy, you expect to laugh a lot more than a few times and that\\'s all this film has going for it. Geez, \"Scream\" had more laughs than this film and that was more of a horror film. How bizarre is that?<br /><br />*1/2 (out of four)'\n",
            "Label 0\n",
            "Review b\"David Mamet is a very interesting and a very un-equal director. His first movie 'House of Games' was the one I liked best, and it set a series of films with characters whose perspective of life changes as they get into complicated situations, and so does the perspective of the viewer.<br /><br />So is 'Homicide' which from the title tries to set the mind of the viewer to the usual crime drama. The principal characters are two cops, one Jewish and one Irish who deal with a racially charged area. The murder of an old Jewish shop owner who proves to be an ancient veteran of the Israeli Independence war triggers the Jewish identity in the mind and heart of the Jewish detective.<br /><br />This is were the flaws of the film are the more obvious. The process of awakening is theatrical and hard to believe, the group of Jewish militants is operatic, and the way the detective eventually walks to the final violent confrontation is pathetic. The end of the film itself is Mamet-like smart, but disappoints from a human emotional perspective.<br /><br />Joe Mantegna and William Macy give strong performances, but the flaws of the story are too evident to be easily compensated.\"\n",
            "Label 0\n",
            "Review b'Great documentary about the lives of NY firefighters during the worst terrorist attack of all time.. That reason alone is why this should be a must see collectors item.. What shocked me was not only the attacks, but the\"High Fat Diet\" and physical appearance of some of these firefighters. I think a lot of Doctors would agree with me that,in the physical shape they were in, some of these firefighters would NOT of made it to the 79th floor carrying over 60 lbs of gear. Having said that i now have a greater respect for firefighters and i realize becoming a firefighter is a life altering job. The French have a history of making great documentary\\'s and that is what this is, a Great Documentary.....'\n",
            "Label 1\n"
          ]
        }
      ]
    },
    {
      "cell_type": "code",
      "source": [
        "raw_val_ds = tf.keras.utils.text_dataset_from_directory(\n",
        "    'aclImdb/train',\n",
        "    batch_size = batch_size,\n",
        "    validation_split = 0.2,\n",
        "    subset = \"validation\",\n",
        "    seed = seed\n",
        ")"
      ],
      "metadata": {
        "id": "AJjJZKKPH00v",
        "colab": {
          "base_uri": "https://localhost:8080/"
        },
        "outputId": "8d890893-1cb5-4684-c61d-517b4d220143"
      },
      "execution_count": 7,
      "outputs": [
        {
          "output_type": "stream",
          "name": "stdout",
          "text": [
            "Found 25000 files belonging to 2 classes.\n",
            "Using 5000 files for validation.\n"
          ]
        }
      ]
    },
    {
      "cell_type": "code",
      "source": [
        "for review_batch_val,label_batch_val in raw_val_ds.take(1):\n",
        "  for i in range(3):\n",
        "    print(\"review batch val\" , review_batch_val.numpy()[i])\n",
        "    print(\"Label Batch Val\" , label_batch_val.numpy()[i])\n"
      ],
      "metadata": {
        "colab": {
          "base_uri": "https://localhost:8080/"
        },
        "id": "0IJDPypgo_ar",
        "outputId": "df306699-be4f-4dbb-e180-084fe977a84c"
      },
      "execution_count": 58,
      "outputs": [
        {
          "output_type": "stream",
          "name": "stdout",
          "text": [
            "review batch val b'a friend gave it to me saying it was another classic like \"Debbie does Dallas\". Nowhere close. I think my main complaint is about the most unattractive lead actress in porn industry ever. Even more terrible is that she is on screen virtually all the time. But I read somewhere that back in those days, porn had to have some \"artistic\" value. I was unable to find it though. See it only if you are interested in history of development of porn into mainstream, or can appreciate art in porn movies. I know I am not. But the director of the movie appears to be a talented person. He even tried to get Simon & Garfunkel to give him permissions to use his songs. Of course, they rejected.'\n",
            "Label Batch Val 0\n",
            "review batch val b\"The scenes are fast-paced. the characters are great. I love Anne-Marie Johnson's acting. I really like the ending. <br /><br />However, I was disappointed that this movie didn't delve deeper into Achilles's and Athena's relationship. It only blossomed when they kissed each other.\"\n",
            "Label Batch Val 1\n",
            "review batch val b'Although i am inclined to agree with the other comments made by people who have seen this movie, i am ashamed to say i rather like it. Not often can such a huge pile of 80s pap be found outside of a Wham! video, so it is most definitely worth a viewing (\\xc2\\xa30.79 a night in my local store!). Watch out for the insanely obvious seams and zip on the monster\\'s costume, the fact that the \\'hero\\' looks a lot like Keith Chegwin and such classic lines as the following: Evil Wizard-Type Bloke: \"At last we meet Kor...\" Kor: \"Thrilling, isn\\'t it?\"<br /><br />Amazing!!I also like the fact that although the video box looks quite exciting with images of a castle surrounded by raging seas and a dangerous falcon-like bird carrying a handsome hero to safety (among other such \\'interesting and engaging\\' suggestions of what goes on in the actual film, none of them actually happen. No, I\\'m not joking...there really isn\\'t a raging sea or a ferocious bird, it\\'s just trying to make you interested...classic in my opinion. This film gets 10 for pure entertainment value!!'\n",
            "Label Batch Val 1\n"
          ]
        }
      ]
    },
    {
      "cell_type": "code",
      "source": [
        "raw_test_ds = tf.keras.utils.text_dataset_from_directory(\n",
        "        'aclImdb/test',\n",
        "        batch_size = batch_size\n",
        "\n",
        ")"
      ],
      "metadata": {
        "id": "gJizC-EqH1BF",
        "colab": {
          "base_uri": "https://localhost:8080/"
        },
        "outputId": "60338fa9-9f69-4790-eae9-88edcde23395"
      },
      "execution_count": 8,
      "outputs": [
        {
          "output_type": "stream",
          "name": "stdout",
          "text": [
            "Found 25000 files belonging to 2 classes.\n"
          ]
        }
      ]
    },
    {
      "cell_type": "code",
      "source": [
        "for review_batch_test , label_test in raw_test_ds.take(1):\n",
        "  for i in range(3):\n",
        "    print(\"Review Test Batch\" , review_batch_test.numpy()[i])\n",
        "    print(\"Label Test Batch\" , label_test.numpy()[i])"
      ],
      "metadata": {
        "colab": {
          "base_uri": "https://localhost:8080/"
        },
        "id": "YymD1gXFo7Jg",
        "outputId": "cffa1acf-0c4e-4e04-d71d-e41680530b53"
      },
      "execution_count": 60,
      "outputs": [
        {
          "output_type": "stream",
          "name": "stdout",
          "text": [
            "Review Test Batch b'As long as you keep in mind that the production of this movie was a copyright ploy, and not intended as a serious release, it is actually surprising how not absolutely horrible it is. I even liked the theme music.<br /><br />And if ever a flick cried out for a treatment by Joel (or Mike) and the MST3K Bots, this is it! Watch this with a bunch of smart-ass wise-crackers, and you\\'re in for a good time. Have a brew, butter up some large pretzels, and enjoy.<br /><br />Of course, obtaining a copy requires buying a bootleg or downloading it as shareware, but if you\\'re here on the IMDb, then you\\'re most likely savvy enough to do so. Good luck.<br /><br />And look for my favorite part....where Dr. Doom informs the FF that they have 12 hours to comply with his wishes....and he actually gestures the number \"12\" with his finger while doing so....it\\'s like \"Evil Sesame Street\"....hoo boy.<br /><br />...and of course Mrs. Storm declaring \"Just look at you....the Fanstastic Four\" is just so heartwarming....you\\'ll laugh, you\\'ll cry.....<br /><br />So if you love schlocky Sci-Fi, this one\\'s Fantastic For you!'\n",
            "Label Test Batch 0\n",
            "Review Test Batch b\"I am a German student so sorry for eventually mistakes (I'm working on it ;) )<br /><br />The stylistic very interesting converted and with effective sound effects accentuated platitudinous action of the drama deflect in no way from the horrible bad actors (insincere and unnatural moves and expressions of feelings) and makes so the relatively weird and senseless story less better. Just the typical slasher-genre with in this case very odd action. Many by-plays destroy partly the main story and let the viewers up to the end into the dark, create weirdness and let surmise the senses of actions and the point mere hazily. For sure its an hit for slasher-fans but not for me. But although the interesting style of cinematography and adeptly use of light is turned out well.<br /><br />So not the best one...\"\n",
            "Label Test Batch 0\n",
            "Review Test Batch b'This movie was a disappointment. The story is essentially The Shining with a castle (or a very cheap set masquerading as a castle, to be specific) substituting as the hotel and a monster instead of the ghosts. The budget is the same you\\'d see from a Cinemax softcore porn, as is the photography, sets, lighting, and video it was shot on. The story is a failed attempt at sincerity: there\\'s no easier way to make your audience feel sympathetic for your characters than to show them experiencing emotional trauma. And the trauma in this movie is pretty trite. Want an example? A blind girl listening to a language tape teaching the Italian words for colors begins to cry at what she will never see.<br /><br />This movie had a few things going for it, however: the monster is actually pretty cool, pretty scary-looking. And there is a pretty decent amount of nudity from Raffaella Offidani, herself a star of Italian \"erotic\" films. The gore, however, leaves much to be desired, as does the acting, even from the experienced Jeffrey Combs.<br /><br />Other than this I\\'ve only seen two other Stuart Gordon films: Re-Animator and From Beyond, both of which were outstanding. But I won\\'t let this little footnote in his career keep me from watching many more of his movies.'\n",
            "Label Test Batch 0\n"
          ]
        }
      ]
    },
    {
      "cell_type": "code",
      "source": [
        "#Veri Kümesini Eğitim İçin Hazirlama\n",
        "#1- Standardizasyon : Genellikle verileri basitlestirnek ve noktalama işaretleri yada html öğelerini kaldırmak için metnin ön işlenmesidir.\n",
        "#2-Belirteçleme (Tokenization): Dizeleri bölme anlamına gelir\n",
        "#3-Vectorleştirme : Tokenların bir sinir ağını beslemek için sayılara dönüştürülmesini ifade eder\n",
        "\n",
        "# ----> Veriler incelendiğinde <br/> gibi html ifadeleri bulunuyor.Bu ifadeler textvectorization tarafından kaldırılamaz.\n",
        "# TextVectorization işlemi noktalama işaretlerini kaldırır yada harflerin hepsini küçük harfe dönüştürür\n",
        "# Bu yüzden özel <br/> yi kaldırmak için özel kod düzenlememiz gerekecek\n",
        "\n",
        "\n",
        "#  Not: Eğitim-test çarpıklığını önlemek için (eğitim-hizmet eğriliği olarak da bilinir), veriyi tren ve test zamanında aynı şekilde önceden işlemek önemlidir.\n",
        "# Bunu kolaylaştırmak için, bu öğreticide daha sonra gösterildiği gibi, TextVectorization katmanı doğrudan modelinizin içine dahil edilebilir."
      ],
      "metadata": {
        "id": "dCDhj40Aq06y"
      },
      "execution_count": 15,
      "outputs": []
    },
    {
      "cell_type": "code",
      "source": [
        "def custom_standardization(input_data):  # fonsiyonu tanımladık\n",
        "  lowercase = tf.strings.lower(input_data)  # Metni küçük harfe çevirdik\n",
        "  stripped_html = tf.strings.regex_replace(lowercase, '<br />',' ' ) # Metnin sonunda bulunan <br /> ifadelerini \" \" boşlukla değiştiriyoruz\n",
        "  return tf.strings.regex_replace(stripped_html,\n",
        "                                 \"[%s]\" % re.escape(string.punctuation),'')\n",
        "\n",
        "  # tf.string.regex_replace değiştirmek için kullandık\n",
        "  # re.escape kaçış ifadelerini ekleme işini yapar \"\\\" sebebi noktalama işaretlerinin içerisinde örneğin \".\" ifadesini \"\\.\" ya çevirir\n",
        "   # string.punctuation içerinde noktalama işaretleri barındırır\n",
        "   # \"[s]\" yer tutucusu çnlerinde kaçış ifadeleri yer alan noktalama işaretlerin yerini tutar ve sonuç olarak tespit edilen noktalama işateleri boşluğa dönüştürürlür"
      ],
      "metadata": {
        "id": "-CAe28OJ4LgV"
      },
      "execution_count": 9,
      "outputs": []
    },
    {
      "cell_type": "code",
      "source": [
        "def custom_standardization(input_data):\n",
        "  lowercase = tf.strings.lower(input_data)\n",
        "  stripped_html = tf.strings.regex_replace(lowercase, '<br />', ' ')\n",
        "  return tf.strings.regex_replace(stripped_html,\n",
        "                                  '[%s]' % re.escape(string.punctuation),\n",
        "                                  '')"
      ],
      "metadata": {
        "id": "dmMNz7ZAj5FC"
      },
      "execution_count": 10,
      "outputs": []
    },
    {
      "cell_type": "code",
      "source": [
        "#Vectorization işlemi\n",
        "\n",
        "max_features = 10000 # en sık kullanılan kelime sayısı\n",
        "sequence_length = 250 # maç kelime uzunluğu\n",
        "\n",
        "vectorize_layer = layers.TextVectorization(   # TextVectorization katmanı oluşturup parametrelerini gireceğiz\n",
        "                                           standardize = custom_standardization, # Bir üst satırda tanımlamış olduğumuz standardizasyon kodu(metni kğçük harf yapar-html etiketlerini temizler-noktalama işaretlerini kaldırır)\n",
        "                                           max_tokens = max_features ,# en sık geçen 10000 kelimeyi dikkate alır\n",
        "                                              output_mode = \"int\", # Vectorization sonucunda her bir kelimeye int cinsinden bir değer atar.Bu değer kelimelerin indexlerini temsil eder\n",
        "                                              output_sequence_length = sequence_length # Her bir çıktının aynı uzunlukta olmasını sağlar.250 değeri olarak belirlenen değerden küçükse doldurulur,fazlaysa kesilir\n",
        "                                           )"
      ],
      "metadata": {
        "id": "sFWxJ5eW-GlI"
      },
      "execution_count": 11,
      "outputs": []
    },
    {
      "cell_type": "code",
      "source": [
        "# Verimizde cümle ve etiketi birlikte bulunuyor öncelikle sadece metin dosyalarını bir değişkene tanımlayacağız\n",
        "train_text = raw_train_ds.map(lambda x,y:x) # Bu satır sadece metin dosyalarını train_text değişkenine atar.ÖRneğin:[(\"Bugün hava çok güzel\",1),(\"Hava yağışlu olacak\",1)] verilerini [\"Bugün hava çok güzel\",\"Hava yağışlı olacak\"] tipine dönüştürür\n",
        "\n",
        "# Metinlerdeki en çok kullanılan kelimelere dikkat ederek sayısal verilere dönüştürelim\n",
        "# Bunun için adapt fonksiyonunu kullanıyoruz\n",
        "\n",
        "vectorize_layer.adapt(train_text)\n",
        "# adapt fonksiyonu metinleri işleyerek belirlediğimiz parametrelere uygun olarak metinleri indexleme işlemi yapar\n",
        "\n",
        "# Örnek olarak train_text =[\"Selam Arkadaşlar\",\"Arkadaşlarlar hoşgeldiniz\",\"Selam hoşgeldiniz\"] verileri olsun\n",
        "# Yapacağı işlem \"Selam\" ---> 1 ,\"Arkadaşlar\"---->2 , \"hoşgeldiniz\" ---->3 şeklinde tanımlar\n",
        "# [\"Arkadaşlar Selam\"] ----- [2,1] şeklinde çıktı almamızı sağlar"
      ],
      "metadata": {
        "id": "CgDFZYQNwvmT"
      },
      "execution_count": 12,
      "outputs": []
    },
    {
      "cell_type": "code",
      "source": [
        "# Bunun nasıl çalıştığını anlamak için veri üzerinde gösterelim\n",
        "def vectorize_text(text,label): # text ve label paramtresi alan fonksiyonu tanımladık\n",
        "  text = tf.expand_dims(text,-1)  # Tensore yeni bir boyut ekledik.TextVectorizationda verilerin işlenmesi için 2 boyulu hale getiriyoruz\n",
        "  return vectorize_layer(text),label # Metni vectorize ediyoruz yani en sık kullanılan kelimeleri indexleme işlemi yapıyoruz.Label için işlem yapmıyoruz orjinal(0-1) şeklinde kalıyor\n",
        "\n",
        "# Not: \"expand_dim\" TextVectorization katmanının giriş formatı iki boyutlu dizi alacağı için tek boyutlu metin verilerimizi iki boyutlu hale getirmemiz gerekiyor\n",
        "# tf.expand_dims çalışma mantığı ----> tf.expand_dims(tensor,axis)---tf.expand_dims(text,-1) text değişkeninin sonuna(-1 sonunu ifade eder,-2 sondan 2.boyut) boyut ekleme işlemi yapar\n",
        "# Örneğin; text = [\"Selam Nasılsın\",\"Merhaba Adanalı\"] bu tek boyutlu bir değişken olup text.shape = (2,) dir.\n",
        "# tf.expand_dims(text,-1) uygulandıktan sonra [[\"Selam Nasılsın\"],[\"Merhaba Adanalı\"]] ---> text.shape = (2,1) haline gelir.Yani 2 satır ve 1 sütundan oluşan bir matris gibi düşünelim\n"
      ],
      "metadata": {
        "id": "ouVOC7w50Jxn"
      },
      "execution_count": 13,
      "outputs": []
    },
    {
      "cell_type": "code",
      "source": [
        "text_batch,label_batch = next(iter(raw_train_ds)) # iter fonksiyonu raw_train_ds içerisinde bir döngü oluşturur.(next) bir sonraki sıradaki döngüye geçirir/text_batch ve label_batch değişkenine sırayla atanırlar\n",
        "first_review , first_label = text_batch[0],label_batch[0] # Bu verimiz için ilk eleştiri yazısını ve onun olumlu yada olumsuz olmasını belirten etikeni tanımlar\n",
        "print(\"Review\" , first_review)\n",
        "print(\"Label\",raw_train_ds.class_names[first_label])\n",
        "print(\"Vectorized Review\" , vectorize_text(first_review,first_label))"
      ],
      "metadata": {
        "id": "m86qI47m0tl5",
        "colab": {
          "base_uri": "https://localhost:8080/"
        },
        "outputId": "823d4f54-09ed-4113-9714-28eddecccab7"
      },
      "execution_count": 66,
      "outputs": [
        {
          "output_type": "stream",
          "name": "stdout",
          "text": [
            "Review tf.Tensor(b'Great movie - especially the music - Etta James - \"At Last\". This speaks volumes when you have finally found that special someone.', shape=(), dtype=string)\n",
            "Label neg\n",
            "Vectorized Review (<tf.Tensor: shape=(1, 250), dtype=int64, numpy=\n",
            "array([[  86,   17,  260,    2,  222,    1,  571,   31,  229,   11, 2418,\n",
            "           1,   51,   22,   25,  404,  251,   12,  306,  282,    0,    0,\n",
            "           0,    0,    0,    0,    0,    0,    0,    0,    0,    0,    0,\n",
            "           0,    0,    0,    0,    0,    0,    0,    0,    0,    0,    0,\n",
            "           0,    0,    0,    0,    0,    0,    0,    0,    0,    0,    0,\n",
            "           0,    0,    0,    0,    0,    0,    0,    0,    0,    0,    0,\n",
            "           0,    0,    0,    0,    0,    0,    0,    0,    0,    0,    0,\n",
            "           0,    0,    0,    0,    0,    0,    0,    0,    0,    0,    0,\n",
            "           0,    0,    0,    0,    0,    0,    0,    0,    0,    0,    0,\n",
            "           0,    0,    0,    0,    0,    0,    0,    0,    0,    0,    0,\n",
            "           0,    0,    0,    0,    0,    0,    0,    0,    0,    0,    0,\n",
            "           0,    0,    0,    0,    0,    0,    0,    0,    0,    0,    0,\n",
            "           0,    0,    0,    0,    0,    0,    0,    0,    0,    0,    0,\n",
            "           0,    0,    0,    0,    0,    0,    0,    0,    0,    0,    0,\n",
            "           0,    0,    0,    0,    0,    0,    0,    0,    0,    0,    0,\n",
            "           0,    0,    0,    0,    0,    0,    0,    0,    0,    0,    0,\n",
            "           0,    0,    0,    0,    0,    0,    0,    0,    0,    0,    0,\n",
            "           0,    0,    0,    0,    0,    0,    0,    0,    0,    0,    0,\n",
            "           0,    0,    0,    0,    0,    0,    0,    0,    0,    0,    0,\n",
            "           0,    0,    0,    0,    0,    0,    0,    0,    0,    0,    0,\n",
            "           0,    0,    0,    0,    0,    0,    0,    0,    0,    0,    0,\n",
            "           0,    0,    0,    0,    0,    0,    0,    0,    0,    0,    0,\n",
            "           0,    0,    0,    0,    0,    0,    0,    0]])>, <tf.Tensor: shape=(), dtype=int32, numpy=0>)\n"
          ]
        }
      ]
    },
    {
      "cell_type": "markdown",
      "source": [
        "get_vocabulary() kullanarak tam sayilarin hangi kelimeyi temsil ettigini gorelim"
      ],
      "metadata": {
        "id": "rZmyxnyGkt6N"
      }
    },
    {
      "cell_type": "code",
      "source": [
        "print('8555------>', vectorize_layer.get_vocabulary()[8555])\n",
        "print('4619------>',vectorize_layer.get_vocabulary()[4619])\n",
        "print('2-------->',vectorize_layer.get_vocabulary()[2])\n",
        "print('vocabulary Size {}'.format(len(vectorize_layer.get_vocabulary()))) # toplam indexlenen kelime sayisi"
      ],
      "metadata": {
        "colab": {
          "base_uri": "https://localhost:8080/"
        },
        "id": "EYU1NbKLWZAB",
        "outputId": "ce3ef507-ff1d-4d46-c53e-3943caa3f0a2"
      },
      "execution_count": 67,
      "outputs": [
        {
          "output_type": "stream",
          "name": "stdout",
          "text": [
            "8555------> varying\n",
            "4619------> exchange\n",
            "2--------> the\n",
            "vocabulary Size 10000\n"
          ]
        }
      ]
    },
    {
      "cell_type": "code",
      "source": [
        "#simdi train,test ve validation veri setlerimize vectorlestirme islemi uygulayalim\n",
        "\n",
        "train_ds = raw_train_ds.map(vectorize_text)\n",
        "val_ds = raw_val_ds.map(vectorize_text)\n",
        "test_ds = raw_test_ds.map(vectorize_text)"
      ],
      "metadata": {
        "id": "r_Vvv_MAWYQs"
      },
      "execution_count": 14,
      "outputs": []
    },
    {
      "cell_type": "code",
      "source": [
        "#PERFORMANS İCİN VERİ KUMESİNİ YAPİLANDİRALİM\n",
        "AUTOTUNE = tf.data.AUTOTUNE\n",
        "\n",
        "train_ds=train_ds.cache().prefetch(buffer_size=AUTOTUNE)\n",
        "val_ds = val_ds.cache().prefetch(buffer_size=AUTOTUNE)\n",
        "test_ds = test_ds.cache().prefetch(buffer_size=AUTOTUNE)\n",
        "\n",
        "#cache() metodu verisetini onbellege alma islemi yapar.Parametre olarak dosya yolu verilmezse bellege onbellege alir\n",
        "# prefetch() bir sonraki batch(partinin) bir onceki batch in egitimi sirasinda yapmak icin kullanilir.BU yöntem CPU,GPU kaynaklarinin daha verimli calismasini saglar\n",
        "# prefetch() metodunun parametresi olan buffer_size = AUTOTUNE kac partinin onceden getirilecegine karar verir.AUTOTUNE kullanildiginda tensorflow bunu otomatik belirler"
      ],
      "metadata": {
        "id": "FwBtYasZWio8"
      },
      "execution_count": 15,
      "outputs": []
    },
    {
      "cell_type": "markdown",
      "source": [
        "MODEL OLUSTURMA"
      ],
      "metadata": {
        "id": "6oFGqXDzwKKV"
      }
    },
    {
      "cell_type": "code",
      "source": [
        "embedding_dim = 16"
      ],
      "metadata": {
        "id": "y49u2A8DWj-4"
      },
      "execution_count": 16,
      "outputs": []
    },
    {
      "cell_type": "code",
      "source": [
        "model = tf.keras.Sequential([\n",
        "  layers.Embedding(max_features+1,embedding_dim), # Kelimeleri vector uzayda konumlandırmak için kullanırız -- embedding_dim gömme boyutu her kelime 16 boyutlu vector ile temsil edilir 1001 kelime 16 boyut\n",
        "  layers.Dropout(0,2), # overfitting önlemek için noronların %20 si her iterasyonda rastgele sıfırlanır\n",
        "  layers.GlobalAveragePooling1D(), # Bu katman 2 boyutlu matrisi tek boyuta çevirir.Örneğini aşağıda anlattım\n",
        "  layers.Dropout(0.2), # overfitting için %20 si sıfırlandı\n",
        "  layers.Dense(1) # Tek bir çıktı verir.Binary 0-1\n",
        "])\n",
        "\n",
        "model.summary()"
      ],
      "metadata": {
        "id": "4GzLmewAWlHd",
        "colab": {
          "base_uri": "https://localhost:8080/"
        },
        "outputId": "612615e8-cb45-437a-92d4-016b48b23394"
      },
      "execution_count": 17,
      "outputs": [
        {
          "output_type": "stream",
          "name": "stdout",
          "text": [
            "Model: \"sequential\"\n",
            "_________________________________________________________________\n",
            " Layer (type)                Output Shape              Param #   \n",
            "=================================================================\n",
            " embedding (Embedding)       (None, None, 16)          160016    \n",
            "                                                                 \n",
            " dropout (Dropout)           (None, None, 16)          0         \n",
            "                                                                 \n",
            " global_average_pooling1d (  (None, 16)                0         \n",
            " GlobalAveragePooling1D)                                         \n",
            "                                                                 \n",
            " dropout_1 (Dropout)         (None, 16)                0         \n",
            "                                                                 \n",
            " dense (Dense)               (None, 1)                 17        \n",
            "                                                                 \n",
            "=================================================================\n",
            "Total params: 160033 (625.13 KB)\n",
            "Trainable params: 160033 (625.13 KB)\n",
            "Non-trainable params: 0 (0.00 Byte)\n",
            "_________________________________________________________________\n"
          ]
        }
      ]
    },
    {
      "cell_type": "markdown",
      "source": [
        "GlobalAveragePooling1D işleyişi : elimizde (100,16) lık bir veri örneği olsun.100 satır ve 16 özellik(sütun) dan oluşuyor.Aamaç tek boyuta düşürmek.Bunun için her zaman adımı için yani her sütun için ortalamasını alırız.--1sütundaki değer ortalama,2.sütun değerleri ortalama.... 16.sütun değerlerinin ortalaması ve sonuçta (16,) yani tek boyutlu 16 değerden oluşan bir çıktı elde ederiz.batch sayısı 32 genelde alınır ve bunu her seferinde 32 örnek için tek boyut olarak çıkarırız."
      ],
      "metadata": {
        "id": "WlpS5bND2zm_"
      }
    },
    {
      "cell_type": "code",
      "source": [
        "# Bir model eğitim işlemi için bir kayıp işlevine ve optimize ediciye ihtiyaç duyar\n",
        "# Bu bir binary sınıflandırma olduğundan ve model olasılık (sigmoid aktivasyonlu tek birimli katman) olduğundan losses.BinaryCrossEntropy kullanacaz\n",
        "\n",
        "model.compile(loss = losses.BinaryCrossentropy(from_logits = True),\n",
        "              optimizer = \"adam\",\n",
        "              metrics =tf.metrics.BinaryAccuracy(threshold = 0.0)\n",
        "              )"
      ],
      "metadata": {
        "id": "XWYIV0zRbFNf"
      },
      "execution_count": 18,
      "outputs": []
    },
    {
      "cell_type": "code",
      "source": [
        "# model eğitimi\n",
        "epochs = 10\n",
        "\n",
        "history = model.fit(\n",
        "    train_ds,\n",
        "    validation_data = val_ds,\n",
        "    epochs = epochs\n",
        ")"
      ],
      "metadata": {
        "colab": {
          "base_uri": "https://localhost:8080/"
        },
        "id": "LfZ6K3DpHrHM",
        "outputId": "2a7c781e-9352-4af0-dd30-10482acde85b"
      },
      "execution_count": 29,
      "outputs": [
        {
          "output_type": "stream",
          "name": "stdout",
          "text": [
            "Epoch 1/10\n",
            "625/625 [==============================] - 11s 12ms/step - loss: 0.6652 - binary_accuracy: 0.6927 - val_loss: 0.6143 - val_binary_accuracy: 0.7712\n",
            "Epoch 2/10\n",
            "625/625 [==============================] - 5s 8ms/step - loss: 0.5445 - binary_accuracy: 0.8029 - val_loss: 0.4923 - val_binary_accuracy: 0.8238\n",
            "Epoch 3/10\n",
            "625/625 [==============================] - 3s 6ms/step - loss: 0.4369 - binary_accuracy: 0.8474 - val_loss: 0.4133 - val_binary_accuracy: 0.8482\n",
            "Epoch 4/10\n",
            "625/625 [==============================] - 4s 7ms/step - loss: 0.3702 - binary_accuracy: 0.8691 - val_loss: 0.3677 - val_binary_accuracy: 0.8622\n",
            "Epoch 5/10\n",
            "625/625 [==============================] - 5s 9ms/step - loss: 0.3281 - binary_accuracy: 0.8808 - val_loss: 0.3398 - val_binary_accuracy: 0.8672\n",
            "Epoch 6/10\n",
            "625/625 [==============================] - 4s 6ms/step - loss: 0.2973 - binary_accuracy: 0.8913 - val_loss: 0.3216 - val_binary_accuracy: 0.8730\n",
            "Epoch 7/10\n",
            "625/625 [==============================] - 4s 6ms/step - loss: 0.2740 - binary_accuracy: 0.8998 - val_loss: 0.3093 - val_binary_accuracy: 0.8728\n",
            "Epoch 8/10\n",
            "625/625 [==============================] - 5s 9ms/step - loss: 0.2548 - binary_accuracy: 0.9076 - val_loss: 0.3004 - val_binary_accuracy: 0.8770\n",
            "Epoch 9/10\n",
            "625/625 [==============================] - 4s 6ms/step - loss: 0.2384 - binary_accuracy: 0.9140 - val_loss: 0.2945 - val_binary_accuracy: 0.8786\n",
            "Epoch 10/10\n",
            "625/625 [==============================] - 4s 6ms/step - loss: 0.2240 - binary_accuracy: 0.9200 - val_loss: 0.2908 - val_binary_accuracy: 0.8794\n"
          ]
        }
      ]
    },
    {
      "cell_type": "markdown",
      "source": [
        "MODEL DEĞERLENDİRMESİ"
      ],
      "metadata": {
        "id": "ClijO4snJ5CV"
      }
    },
    {
      "cell_type": "code",
      "source": [
        "# Model Değerlendirmesi için iki değere bakalım\n",
        "# Model kaybı (loss) ----> kayıp ne kadar küçükse o kadar iyidir\n",
        "# Doğruluk(accuracy)\n",
        "\n",
        "loss , accuracy = model.evaluate(test_ds)\n",
        "\n",
        "print(\"Loss :\",loss)\n",
        "print(\"Accuracy :\" , accuracy)\n"
      ],
      "metadata": {
        "colab": {
          "base_uri": "https://localhost:8080/"
        },
        "id": "Vm_3NdR9H9Bm",
        "outputId": "9c5b52ff-6c8b-4de2-dc19-78fb9cce4136"
      },
      "execution_count": 30,
      "outputs": [
        {
          "output_type": "stream",
          "name": "stdout",
          "text": [
            "782/782 [==============================] - 4s 5ms/step - loss: 0.3092 - binary_accuracy: 0.8734\n",
            "Loss : 0.3091734051704407\n",
            "Accuracy : 0.8733999729156494\n"
          ]
        }
      ]
    },
    {
      "cell_type": "code",
      "source": [
        "# Doğruluk ve kayıp grafiği oluşturalım\n",
        "# model.fit() eğitim sırasında olan her şeyi içeren bir sözlük oluşturur.\n",
        "history_dict = history.history\n",
        "history_dict.keys()"
      ],
      "metadata": {
        "colab": {
          "base_uri": "https://localhost:8080/"
        },
        "id": "hrsIYw42Kmbs",
        "outputId": "b9c630ad-03ad-4dc1-fe9d-7a38c2f45ff8"
      },
      "execution_count": 31,
      "outputs": [
        {
          "output_type": "execute_result",
          "data": {
            "text/plain": [
              "dict_keys(['loss', 'binary_accuracy', 'val_loss', 'val_binary_accuracy'])"
            ]
          },
          "metadata": {},
          "execution_count": 31
        }
      ]
    },
    {
      "cell_type": "markdown",
      "source": [
        "Dört giriş bulunur.Bunları ;\n",
        "\n",
        "\n",
        "*   Karşılaştırma\n",
        "*   Eğitim ve Doğrulana kaybı\n",
        "*   Eğitim ve Doğrulama Doğruluğu\n",
        "\n",
        "için kullanabiliriz\n",
        "\n"
      ],
      "metadata": {
        "id": "uRjSk0ubNJMa"
      }
    },
    {
      "cell_type": "code",
      "source": [
        "acc = history_dict[\"binary_accuracy\"]\n",
        "val_acc = history_dict[\"val_binary_accuracy\"]\n",
        "loss = history_dict[\"loss\"]\n",
        "val_loss = history_dict[\"val_loss\"]\n",
        "\n",
        "\n",
        "epochs = range(1,len(acc)+1)\n",
        "\n",
        "# \"bo\" is for \"blue dot\"\n",
        "plt.plot(epochs,loss,\"bo\",label = \"Training Loss\")\n",
        "# \"b\" is for \"solid blue line\"\n",
        "plt.plot(epochs,val_loss,\"b\",label = \"Validation Loss\")\n",
        "plt.title(\"Training and Validation Loss\")\n",
        "plt.xlabel(\"Epochs\")\n",
        "plt.ylabel(\"Loss\")\n",
        "plt.legend()\n",
        "plt.show()"
      ],
      "metadata": {
        "colab": {
          "base_uri": "https://localhost:8080/",
          "height": 472
        },
        "id": "wGzYt4ZzM9lW",
        "outputId": "6532c848-4b1d-4654-91be-baba6669b3e3"
      },
      "execution_count": 33,
      "outputs": [
        {
          "output_type": "display_data",
          "data": {
            "text/plain": [
              "<Figure size 640x480 with 1 Axes>"
            ],
            "image/png": "[encoded data removed]"
          },
          "metadata": {}
        }
      ]
    },
    {
      "cell_type": "code",
      "source": [
        "# Doğruluk için çizelim\n",
        "\n",
        "plt.plot(epochs,acc,\"bo\",label = \"Training Accuracy\")\n",
        "plt.plot(epochs,val_acc,\"b\",label = \"Validation Accuracy\")\n",
        "plt.title(\"Training and Validation Accuracy\")\n",
        "plt.xlabel(\"Epochs\")\n",
        "plt.ylabel(\"Accuracy\")\n",
        "plt.legend(loc = \"lower right\")\n",
        "plt.show()"
      ],
      "metadata": {
        "colab": {
          "base_uri": "https://localhost:8080/",
          "height": 472
        },
        "id": "HHW8TLcNQALi",
        "outputId": "bd55e01c-fb8f-4443-8ee6-8a4cbbad63b7"
      },
      "execution_count": 36,
      "outputs": [
        {
          "output_type": "display_data",
          "data": {
            "text/plain": [
              "<Figure size 640x480 with 1 Axes>"
            ],
            "image/png": "[encoded data removed]"
          },
          "metadata": {}
        }
      ]
    },
    {
      "cell_type": "markdown",
      "source": [
        "Doğrulama kaybı ve doğrulama doğruluğu eğitim doğruluğundan önce zirveye ulaşıyor.Bu overfitting 'e bir örnektir.Bu yüzden train verilerinde daha önce görmediği verilere nazaran daha iyi bir performans gösterecektir.Bu noktadan sonra model aşırı optimizasyon yapar ve test verilerine genelleme yapmayan,eğtim verilerine özgü temsiller öğrenir\n",
        "\n",
        "Bu sorunu engellemek için validation accuracy artık artmadığında eğitimi durdurmak overfitting i önleyebilir.Bunun içinde tf.keras.callbacks.EarlyStopping kullanılmalıdır."
      ],
      "metadata": {
        "id": "CQM3CEUvWB8H"
      }
    },
    {
      "cell_type": "code",
      "source": [
        "# # EarlyStopping Kullanarak gözlemleyelim\n",
        "# # model eğitimi\n",
        "# epochs = 10\n",
        "\n",
        "# callback = tf.keras.callbacks.EarlyStopping(patience =3,monitor = \"val_binary_accuracy\") # patience : ardı ardına 3 epoch da değişim görünmezse durdur anlamına gelir.Monitor parametreside izlenecek takip edeceği değeri belirmemizi sağlar\n",
        "\n",
        "# history = model.fit(\n",
        "#     train_ds,\n",
        "#     validation_data = val_ds,\n",
        "#     epochs = epochs,\n",
        "#     callbacks = [callback]\n",
        "# )"
      ],
      "metadata": {
        "colab": {
          "base_uri": "https://localhost:8080/"
        },
        "id": "3uuYdqhCV4qW",
        "outputId": "804340ff-0629-4c55-bc17-f3b9a2678f10"
      },
      "execution_count": 19,
      "outputs": [
        {
          "output_type": "stream",
          "name": "stdout",
          "text": [
            "Epoch 1/10\n",
            "625/625 [==============================] - 9s 13ms/step - loss: 0.6630 - binary_accuracy: 0.6935 - val_loss: 0.6110 - val_binary_accuracy: 0.7728\n",
            "Epoch 2/10\n",
            "625/625 [==============================] - 4s 6ms/step - loss: 0.5417 - binary_accuracy: 0.8040 - val_loss: 0.4908 - val_binary_accuracy: 0.8248\n",
            "Epoch 3/10\n",
            "625/625 [==============================] - 5s 8ms/step - loss: 0.4356 - binary_accuracy: 0.8489 - val_loss: 0.4124 - val_binary_accuracy: 0.8492\n",
            "Epoch 4/10\n",
            "625/625 [==============================] - 5s 8ms/step - loss: 0.3695 - binary_accuracy: 0.8700 - val_loss: 0.3673 - val_binary_accuracy: 0.8634\n",
            "Epoch 5/10\n",
            "625/625 [==============================] - 4s 6ms/step - loss: 0.3272 - binary_accuracy: 0.8817 - val_loss: 0.3396 - val_binary_accuracy: 0.8698\n",
            "Epoch 6/10\n",
            "625/625 [==============================] - 5s 8ms/step - loss: 0.2969 - binary_accuracy: 0.8921 - val_loss: 0.3214 - val_binary_accuracy: 0.8732\n",
            "Epoch 7/10\n",
            "625/625 [==============================] - 4s 6ms/step - loss: 0.2737 - binary_accuracy: 0.9006 - val_loss: 0.3089 - val_binary_accuracy: 0.8744\n",
            "Epoch 8/10\n",
            "625/625 [==============================] - 6s 9ms/step - loss: 0.2537 - binary_accuracy: 0.9075 - val_loss: 0.3000 - val_binary_accuracy: 0.8768\n",
            "Epoch 9/10\n",
            "625/625 [==============================] - 3s 6ms/step - loss: 0.2380 - binary_accuracy: 0.9155 - val_loss: 0.2943 - val_binary_accuracy: 0.8788\n",
            "Epoch 10/10\n",
            "625/625 [==============================] - 4s 6ms/step - loss: 0.2231 - binary_accuracy: 0.9198 - val_loss: 0.2902 - val_binary_accuracy: 0.8798\n"
          ]
        }
      ]
    },
    {
      "cell_type": "code",
      "source": [
        "# # Tekrar kayıp ve doğruluklara bakalım\n",
        "# loss , accuracy = model.evaluate(test_ds)\n",
        "\n",
        "# print(\"Loss\" ,loss)\n",
        "# print(\"Accuracy:\",accuracy)"
      ],
      "metadata": {
        "colab": {
          "base_uri": "https://localhost:8080/"
        },
        "id": "IkwuOVbmZHqL",
        "outputId": "2366100b-c247-4a4b-cc59-a2de9f347e89"
      },
      "execution_count": 20,
      "outputs": [
        {
          "output_type": "stream",
          "name": "stdout",
          "text": [
            "782/782 [==============================] - 4s 5ms/step - loss: 0.3084 - binary_accuracy: 0.8748\n",
            "Loss 0.30841362476348877\n",
            "Accuracy: 0.8748400211334229\n"
          ]
        }
      ]
    },
    {
      "cell_type": "markdown",
      "source": [
        "EXPORT THE MODEL\n",
        "*   Yukarıdaki modelde verileri modelde eğitmeden önce TextVectorization işleminden geçirdik.Bunu manuel olarak yaptık.Eğer ham verileri tahmin etmek istiyorsak bu textvectorization işlemini modele dahil etmemiz gerekiyor."
      ],
      "metadata": {
        "id": "7TSIF7ZnfnZG"
      }
    },
    {
      "cell_type": "code",
      "source": [
        "# Modele Vectorize katmanı eklemek\n",
        "# Bunun için eğittiğimiz modeldeki ağırlıkları kullanarak yeni model üretebiliriz\n",
        "\n",
        "export_model = tf.keras.Sequential([\n",
        "    vectorize_layer,\n",
        "    model,\n",
        "    layers.Activation(\"sigmoid\")\n",
        "])\n",
        "\n",
        "export_model.compile(\n",
        "    loss = losses.BinaryCrossentropy(from_logits = False),\n",
        "    optimizer = \"adam\",\n",
        "    metrics = [\"accuracy\"]\n",
        ")\n",
        "\n",
        "loss , accuracy = export_model.evaluate(raw_test_ds)\n",
        "print(\"Accuracy\" , accuracy)\n",
        "print(\"Loss\",loss)"
      ],
      "metadata": {
        "id": "haJPEU4beVOK"
      },
      "execution_count": null,
      "outputs": []
    },
    {
      "cell_type": "code",
      "source": [
        "# Yeni veriler üzerinden modelimizin tahminlerini alalım\n",
        "\n",
        "examples = [\n",
        "    \"The movie was amazing!\",\n",
        "    \"The movie unbelievable\",\n",
        "    \"The Tron is awesome \",\n",
        "    \"The movie is terrible\",\n",
        "    \"The oppenheimer movie was so bad\"\n",
        "\n",
        "]\n",
        "\n",
        "export_model.predict(examples)"
      ],
      "metadata": {
        "id": "HKQQDNHOhgV5"
      },
      "execution_count": 24,
      "outputs": []
    },
    {
      "cell_type": "markdown",
      "source": [
        "NOT(Önemli)!!! : TextVectorization katmanını modelin içinde ve dışında kullanmak arasında performans farkı vardır.\n",
        "*  Dışında kullanmak GPU ' da eğitirken verileri eş zamansız CPU işlemesine ve ara belleğe alınmasını sağler.\n",
        "\n",
        "*  Dolayısıyle model GPU üzerinden eğitilirken modeli geliştirmek ve en iyi performansı elde etmek için TextVectorizasyon katmanı model dışında kullanılır ve dağıtıma hazır olduğunda modele dahil edilir."
      ],
      "metadata": {
        "id": "Ho6nqY1KjPxn"
      }
    },
    {
      "cell_type": "code",
      "source": [],
      "metadata": {
        "id": "tglSpNxZkRyb"
      },
      "execution_count": null,
      "outputs": []
    }
  ]
}