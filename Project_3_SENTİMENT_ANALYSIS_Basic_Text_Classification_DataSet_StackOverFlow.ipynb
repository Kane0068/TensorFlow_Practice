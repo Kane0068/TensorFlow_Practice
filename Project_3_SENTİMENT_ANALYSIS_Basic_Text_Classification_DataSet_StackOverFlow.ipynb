{
  "nbformat": 4,
  "nbformat_minor": 0,
  "metadata": {
    "colab": {
      "provenance": [],
      "authorship_tag": "ABX9TyOEf06n+BKCu+L5lmzoTKx0"
    },
    "kernelspec": {
      "name": "python3",
      "display_name": "Python 3"
    },
    "language_info": {
      "name": "python"
    }
  },
  "cells": [
    {
      "cell_type": "markdown",
      "source": [
        "PERDICT THE LABEL OF A PROGRAMMING QUESTION IN STACK OVERFLOW"
      ],
      "metadata": {
        "id": "AVznc0bQEcXS"
      }
    },
    {
      "cell_type": "markdown",
      "source": [
        "Amacımız stack overflow da sorulan soruların hangi kodlama diliyle alakalı olduğunu bulmak"
      ],
      "metadata": {
        "id": "3pu1vxZYEshv"
      }
    },
    {
      "cell_type": "code",
      "source": [
        "# 1-IMPORTING LIBRARIES\n",
        "\n",
        "import matplotlib.pyplot as plt\n",
        "import os\n",
        "import re\n",
        "import shutil\n",
        "import string\n",
        "import tensorflow as tf\n",
        "\n",
        "from tensorflow.keras import layers\n",
        "from tensorflow.keras import losses"
      ],
      "metadata": {
        "id": "wF7-yT2ZFIg1"
      },
      "execution_count": 1,
      "outputs": []
    },
    {
      "cell_type": "code",
      "execution_count": 2,
      "metadata": {
        "id": "14802y58DtOn",
        "colab": {
          "base_uri": "https://localhost:8080/"
        },
        "outputId": "6365731e-e4d6-4ec1-8036-8f8b2db7602f"
      },
      "outputs": [
        {
          "output_type": "stream",
          "name": "stdout",
          "text": [
            "Downloading data from https://storage.googleapis.com/download.tensorflow.org/data/stack_overflow_16k.tar.gz\n",
            "6053168/6053168 [==============================] - 0s 0us/step\n"
          ]
        }
      ],
      "source": [
        "\n",
        "url = \"https://storage.googleapis.com/download.tensorflow.org/data/stack_overflow_16k.tar.gz\"\n",
        "\n",
        "dataset = tf.keras.utils.get_file(\"stack_overflow_16k\", url,\n",
        "                                   untar=True, cache_dir='.',\n",
        "                                    cache_subdir='')\n"
      ]
    },
    {
      "cell_type": "code",
      "source": [
        "train_dir = os.path.join(\"/content/train\")\n",
        "os.listdir(train_dir)"
      ],
      "metadata": {
        "id": "nNbHiTNXK18P",
        "colab": {
          "base_uri": "https://localhost:8080/"
        },
        "outputId": "ec5acab9-f97c-44f9-ea5c-08fd912a790f"
      },
      "execution_count": 3,
      "outputs": [
        {
          "output_type": "execute_result",
          "data": {
            "text/plain": [
              "['python', 'javascript', 'csharp', 'java']"
            ]
          },
          "metadata": {},
          "execution_count": 3
        }
      ]
    },
    {
      "cell_type": "code",
      "source": [
        "test_dir= os.path.join(\"/content/test\")\n",
        "os.listdir(test_dir)"
      ],
      "metadata": {
        "id": "QrBVRQeyKGx2",
        "colab": {
          "base_uri": "https://localhost:8080/"
        },
        "outputId": "c43f99c3-4272-41f2-ad60-2946bab6c184"
      },
      "execution_count": 4,
      "outputs": [
        {
          "output_type": "execute_result",
          "data": {
            "text/plain": [
              "['python', 'javascript', 'csharp', 'java']"
            ]
          },
          "metadata": {},
          "execution_count": 4
        }
      ]
    },
    {
      "cell_type": "code",
      "source": [
        "# Örnek bir cümleye bakalım\n",
        "sample_file = os.path.join(train_dir,\"/content/train/python/10.txt\")\n",
        "with open(sample_file) as f:\n",
        "  print(f.read())"
      ],
      "metadata": {
        "id": "HOmWn5IcK_Rz",
        "colab": {
          "base_uri": "https://localhost:8080/"
        },
        "outputId": "4e6f5362-64ad-4415-fda0-22043fccbf6d"
      },
      "execution_count": 5,
      "outputs": [
        {
          "output_type": "stream",
          "name": "stdout",
          "text": [
            "\"how to read instance variables from another file without instantiating the class? i'm relatively new to blank and i'm having some trouble importing a variable to use it in another class. i did look at several other questions on this topic and tried to make it work, but it seems the way i set up this program early on might be the problem. i'll simplify what's going on so there's less to read.....server.py:..import game.class server():.    def __init__(self):.        # server connection details here.        self.test = 5.        self.game = game()..    def serve(self):.        # client processing, etc..        self.game.game_loop()..if __name__ == \"\"__main__\"\":.    server = server().    server.serve()...game.py:..class game():.    def __init__(self):.        # other variables.....    def game_loop(self):.        # to reference server's instance variables.        from server import server..        print test...in this example, i'm trying to reference the variable \"\"test\"\" from the server instance of server. it's worth noting that this does work if i put both classes in the same file and then remove the if statement at the end of it...but i'd rather not have one file that long :)..since these are in separate files, i can't get the instance variables from \"\"server\"\" without removing that if statement in server.py. when i do remove it, i get socket errors because of other stuff i'm doing...i need to make it so that there's only ever one server object (and that its class is only \"\"called\"\" once), but it'd be really handy to be able to reference those instance variables without passing them in to my game class every time it runs.....part of this is definitely my fault in that i set my program up wrong...but i'm too far in to start that over. is there any way i can take this sort of setup and read in those variables?\"\n",
            "\n"
          ]
        }
      ]
    },
    {
      "cell_type": "markdown",
      "source": [
        "VERİ KÜMESİNİ YÜKLEYİP TANIMLAYALIM"
      ],
      "metadata": {
        "id": "PaLDJgtzWpQA"
      }
    },
    {
      "cell_type": "code",
      "source": [
        "# train ve validation setlerini belirleyelim\n",
        "batch_size = 32\n",
        "seed = 42\n",
        "\n",
        "raw_train_ds = tf.keras.utils.text_dataset_from_directory(\n",
        "    \"/content/train\",\n",
        "    batch_size = batch_size,\n",
        "    validation_split = 0.2,\n",
        "    subset = \"training\",\n",
        "    seed = seed\n",
        ")"
      ],
      "metadata": {
        "colab": {
          "base_uri": "https://localhost:8080/"
        },
        "id": "TyImWqJcWMRz",
        "outputId": "fe2c5bd8-3634-4be4-c014-d925b31240e4"
      },
      "execution_count": 6,
      "outputs": [
        {
          "output_type": "stream",
          "name": "stdout",
          "text": [
            "Found 8000 files belonging to 4 classes.\n",
            "Using 6400 files for training.\n"
          ]
        }
      ]
    },
    {
      "cell_type": "code",
      "source": [
        "# Örnek olarak bir bakalım\n",
        "for text_batch,label_batch in raw_train_ds.take(1):\n",
        "  for i in range(3):\n",
        "    print(\"Question\",text_batch.numpy()[i])\n",
        "    print(\"Label\",label_batch.numpy()[i])"
      ],
      "metadata": {
        "colab": {
          "base_uri": "https://localhost:8080/"
        },
        "id": "j0qbnJN3XUyh",
        "outputId": "fd68f7a0-7115-4b0e-8e4b-d1093ab860e5"
      },
      "execution_count": 7,
      "outputs": [
        {
          "output_type": "stream",
          "name": "stdout",
          "text": [
            "Question b'\"my tester is going to the wrong constructor i am new to programming so if i ask a question that can be easily fixed, please forgive me. my program has a tester class with a main. when i send that to my regularpolygon class, it sends it to the wrong constructor. i have two constructors. 1 without perameters..public regularpolygon().    {.       mynumsides = 5;.       mysidelength = 30;.    }//end default constructor...and my second, with perameters. ..public regularpolygon(int numsides, double sidelength).    {.        mynumsides = numsides;.        mysidelength = sidelength;.    }// end constructor...in my tester class i have these two lines:..regularpolygon shape = new regularpolygon(numsides, sidelength);.        shape.menu();...numsides and sidelength were declared and initialized earlier in the testing class...so what i want to happen, is the tester class sends numsides and sidelength to the second constructor and use it in that class. but it only uses the default constructor, which therefor ruins the whole rest of the program. can somebody help me?..for those of you who want to see more of my code: here you go..public double vertexangle().    {.        system.out.println(\"\"the vertex angle method: \"\" + mynumsides);// prints out 5.        system.out.println(\"\"the vertex angle method: \"\" + mysidelength); // prints out 30..        double vertexangle;.        vertexangle = ((mynumsides - 2.0) / mynumsides) * 180.0;.        return vertexangle;.    }//end method vertexangle..public void menu().{.    system.out.println(mynumsides); // prints out what the user puts in.    system.out.println(mysidelength); // prints out what the user puts in.    gotographic();.    calcr(mynumsides, mysidelength);.    calcr(mynumsides, mysidelength);.    print(); .}// end menu...this is my entire tester class:..public static void main(string[] arg).{.    int numsides;.    double sidelength;.    scanner keyboard = new scanner(system.in);..    system.out.println(\"\"welcome to the regular polygon program!\"\");.    system.out.println();..    system.out.print(\"\"enter the number of sides of the polygon ==&gt; \"\");.    numsides = keyboard.nextint();.    system.out.println();..    system.out.print(\"\"enter the side length of each side ==&gt; \"\");.    sidelength = keyboard.nextdouble();.    system.out.println();..    regularpolygon shape = new regularpolygon(numsides, sidelength);.    shape.menu();.}//end main...for testing it i sent it numsides 4 and sidelength 100.\"\\n'\n",
            "Label 1\n",
            "Question b'\"blank code slow skin detection this code changes the color space to lab and using a threshold finds the skin area of an image. but it\\'s ridiculously slow. i don\\'t know how to make it faster ?    ..from colormath.color_objects import *..def skindetection(img, treshold=80, color=[255,20,147]):..    print img.shape.    res=img.copy().    for x in range(img.shape[0]):.        for y in range(img.shape[1]):.            rgbimg=rgbcolor(img[x,y,0],img[x,y,1],img[x,y,2]).            labimg=rgbimg.convert_to(\\'lab\\', debug=false).            if (labimg.lab_l &gt; treshold):.                res[x,y,:]=color.            else: .                res[x,y,:]=img[x,y,:]..    return res\"\\n'\n",
            "Label 3\n",
            "Question b'\"option and validation in blank i want to add a new option on my system where i want to add two text files, both rental.txt and customer.txt. inside each text are id numbers of the customer, the videotape they need and the price...i want to place it as an option on my code. right now i have:...add customer.rent return.view list.search.exit...i want to add this as my sixth option. say for example i ordered a video, it would display the price and would let me confirm the price and if i am going to buy it or not...here is my current code:..  import blank.io.*;.    import blank.util.arraylist;.    import static blank.lang.system.out;..    public class rentalsystem{.    static bufferedreader input = new bufferedreader(new inputstreamreader(system.in));.    static file file = new file(\"\"file.txt\"\");.    static arraylist&lt;string&gt; list = new arraylist&lt;string&gt;();.    static int rows;..    public static void main(string[] args) throws exception{.        introduction();.        system.out.print(\"\"nn\"\");.        login();.        system.out.print(\"\"nnnnnnnnnnnnnnnnnnnnnn\"\");.        introduction();.        string repeat;.        do{.            loadfile();.            system.out.print(\"\"nwhat do you want to do?nn\"\");.            system.out.print(\"\"n                    - - - - - - - - - - - - - - - - - - - - - - -\"\");.            system.out.print(\"\"nn                    |     1. add customer    |   2. rent return |n\"\");.            system.out.print(\"\"n                    - - - - - - - - - - - - - - - - - - - - - - -\"\");.            system.out.print(\"\"nn                    |     3. view list       |   4. search      |n\"\");.            system.out.print(\"\"n                    - - - - - - - - - - - - - - - - - - - - - - -\"\");.            system.out.print(\"\"nn                                             |   5. exit        |n\"\");.            system.out.print(\"\"n                                              - - - - - - - - - -\"\");.            system.out.print(\"\"nnchoice:\"\");.            int choice = integer.parseint(input.readline());.            switch(choice){.                case 1:.                    writedata();.                    break;.                case 2:.                    rentdata();.                    break;.                case 3:.                    viewlist();.                    break;.                case 4:.                    search();.                    break;.                case 5:.                    system.out.println(\"\"goodbye!\"\");.                    system.exit(0);.                default:.                    system.out.print(\"\"invalid choice: \"\");.                    break;.            }.            system.out.print(\"\"ndo another task? [y/n] \"\");.            repeat = input.readline();.        }while(repeat.equals(\"\"y\"\"));..        if(repeat!=\"\"y\"\") system.out.println(\"\"ngoodbye!\"\");..    }..    public static void writedata() throws exception{.        system.out.print(\"\"nname: \"\");.        string cname = input.readline();.        system.out.print(\"\"address: \"\");.        string add = input.readline();.        system.out.print(\"\"phone no.: \"\");.        string pno = input.readline();.        system.out.print(\"\"rental amount: \"\");.        string ramount = input.readline();.        system.out.print(\"\"tapenumber: \"\");.        string tno = input.readline();.        system.out.print(\"\"title: \"\");.        string title = input.readline();.        system.out.print(\"\"date borrowed: \"\");.        string dborrowed = input.readline();.        system.out.print(\"\"due date: \"\");.        string ddate = input.readline();.        createline(cname, add, pno, ramount,tno, title, dborrowed, ddate);.        rentdata();.    }..    public static void createline(string name, string address, string phone , string rental, string tapenumber, string title, string borrowed, string due) throws exception{.        filewriter fw = new filewriter(file, true);.        fw.write(\"\"nname: \"\"+name + \"\"naddress: \"\" + address +\"\"nphone no.: \"\"+ phone+\"\"nrentalamount: \"\"+rental+\"\"ntape no.: \"\"+ tapenumber+\"\"ntitle: \"\"+ title+\"\"ndate borrowed: \"\"+borrowed +\"\"ndue date: \"\"+ due+\"\":rn\"\");.        fw.close();.    }..    public static void loadfile() throws exception{.        try{.            list.clear();.            fileinputstream fstream = new fileinputstream(file);.            bufferedreader br = new bufferedreader(new inputstreamreader(fstream));.            rows = 0;.            while( br.ready()).            {.                list.add(br.readline());.                rows++;.            }.            br.close();.        } catch(exception e){.            system.out.println(\"\"list not yet loaded.\"\");.        }.    }..    public static void viewlist(){.        system.out.print(\"\"n~ ~ ~ ~ ~ ~ ~ ~ ~ ~ ~\"\");.        system.out.print(\"\" |list of all costumers|\"\");.        system.out.print(\"\"~ ~ ~ ~ ~ ~ ~ ~ ~ ~ ~\"\");.        for(int i = 0; i &lt;rows; i++){.            system.out.println(list.get(i));.        }.    }.        public static void rentdata()throws exception.    {   system.out.print(\"\"n~ ~ ~ ~ ~ ~ ~ ~ ~ ~ ~\"\");.        system.out.print(\"\" |rent data list|\"\");.        system.out.print(\"\"~ ~ ~ ~ ~ ~ ~ ~ ~ ~ ~\"\");.        system.out.print(\"\"nenter customer name: \"\");.        string cname = input.readline();.        system.out.print(\"\"date borrowed: \"\");.        string dborrowed = input.readline();.        system.out.print(\"\"due date: \"\");.        string ddate = input.readline();.        system.out.print(\"\"return date: \"\");.        string rdate = input.readline();.        system.out.print(\"\"rent amount: \"\");.        string ramount = input.readline();..        system.out.print(\"\"you pay:\"\"+ramount);...    }.    public static void search()throws exception.    {   system.out.print(\"\"n~ ~ ~ ~ ~ ~ ~ ~ ~ ~ ~\"\");.        system.out.print(\"\" |search costumers|\"\");.        system.out.print(\"\"~ ~ ~ ~ ~ ~ ~ ~ ~ ~ ~\"\");.        system.out.print(\"\"nenter costumer name: \"\");.        string cname = input.readline();.        boolean found = false;..        for(int i=0; i &lt; rows; i++){.            string temp[] = list.get(i).split(\"\",\"\");..            if(cname.equals(temp[0])){.            system.out.println(\"\"search result:nyou are \"\" + temp[0] + \"\" from \"\" + temp[1] + \"\".\"\"+ temp[2] + \"\".\"\"+ temp[3] + \"\".\"\"+ temp[4] + \"\".\"\"+ temp[5] + \"\" is \"\" + temp[6] + \"\".\"\"+ temp[7] + \"\" is \"\" + temp[8] + \"\".\"\");.                found = true;.            }.        }..        if(!found){.            system.out.print(\"\"no results.\"\");.        }..    }..        public static boolean evaluate(string uname, string pass){.        if (uname.equals(\"\"admin\"\")&amp;&amp;pass.equals(\"\"12345\"\")) return true;.        else return false;.    }..    public static string login()throws exception{.        bufferedreader input=new bufferedreader(new inputstreamreader(system.in));.        int counter=0;.        do{.            system.out.print(\"\"username:\"\");.            string uname =input.readline();.            system.out.print(\"\"password:\"\");.            string pass =input.readline();..            boolean accept= evaluate(uname,pass);..            if(accept){.                break;.                }else{.                    system.out.println(\"\"incorrect username or password!\"\");.                    counter ++;.                    }.        }while(counter&lt;3);..            if(counter !=3) return \"\"login successful\"\";.            else return \"\"login failed\"\";.            }.        public static void introduction() throws exception{..        system.out.println(\"\"                  - - - - - - - - - - - - - - - - - - - - - - - - -\"\");.        system.out.println(\"\"                  !                  r e n t a l                  !\"\");.        system.out.println(\"\"                   ! ~ ~ ~ ~ ~ !  =================  ! ~ ~ ~ ~ ~ !\"\");.        system.out.println(\"\"                  !                  s y s t e m                  !\"\");.        system.out.println(\"\"                  - - - - - - - - - - - - - - - - - - - - - - - - -\"\");.        }..}\"\\n'\n",
            "Label 1\n"
          ]
        }
      ]
    },
    {
      "cell_type": "code",
      "source": [
        "print(\"Label 0 corresponds to\",raw_train_ds.class_names[0])\n",
        "print(\"Label 1 corresponds to\",raw_train_ds.class_names[1])\n",
        "print(\"Label 2 corresponds to\",raw_train_ds.class_names[2])\n",
        "print(\"Label 3 corresponds to\",raw_train_ds.class_names[3])"
      ],
      "metadata": {
        "colab": {
          "base_uri": "https://localhost:8080/"
        },
        "id": "-GEOlQB6YKXJ",
        "outputId": "3178a17a-bcb6-4520-ad72-3d3a8b2233c7"
      },
      "execution_count": 8,
      "outputs": [
        {
          "output_type": "stream",
          "name": "stdout",
          "text": [
            "Label 0 corresponds to csharp\n",
            "Label 1 corresponds to java\n",
            "Label 2 corresponds to javascript\n",
            "Label 3 corresponds to python\n"
          ]
        }
      ]
    },
    {
      "cell_type": "code",
      "source": [
        "# Validation setini tanımlayalım\n",
        "raw_val_ds = tf.keras.utils.text_dataset_from_directory(\n",
        "    \"/content/train\",\n",
        "    batch_size = batch_size,\n",
        "    validation_split = 0.2,\n",
        "    subset = \"validation\",\n",
        "    seed = seed\n",
        ")"
      ],
      "metadata": {
        "colab": {
          "base_uri": "https://localhost:8080/"
        },
        "id": "s-LwTFrCY1a9",
        "outputId": "703c5590-81e9-42ba-d8c9-ce968e271d94"
      },
      "execution_count": 9,
      "outputs": [
        {
          "output_type": "stream",
          "name": "stdout",
          "text": [
            "Found 8000 files belonging to 4 classes.\n",
            "Using 1600 files for validation.\n"
          ]
        }
      ]
    },
    {
      "cell_type": "code",
      "source": [
        "# Test Veri setini tanımlayalım\n",
        "raw_test_ds = tf.keras.utils.text_dataset_from_directory(\n",
        "    \"/content/test\",\n",
        "    batch_size = batch_size\n",
        ")"
      ],
      "metadata": {
        "colab": {
          "base_uri": "https://localhost:8080/"
        },
        "id": "aUsNDRcNZU6W",
        "outputId": "0b8a9dff-b5cd-4722-ff2e-df2bd6881b45"
      },
      "execution_count": 10,
      "outputs": [
        {
          "output_type": "stream",
          "name": "stdout",
          "text": [
            "Found 8000 files belonging to 4 classes.\n"
          ]
        }
      ]
    },
    {
      "cell_type": "markdown",
      "source": [
        "PREPROCESSİNG\n"
      ],
      "metadata": {
        "id": "fX7AQPVBZ0Yp"
      }
    },
    {
      "cell_type": "code",
      "source": [
        "def custom_standardization(input_data):\n",
        "  lowercase = tf.strings.lower(input_data) # harfleri küçültelim\n",
        "  stripped_html = tf.strings.regex_replace(lowercase, '<br />', ' ') # html etiketlerini temizliyoruz\n",
        "  return tf.strings.regex_replace(stripped_html,\n",
        "                                  '[%s]' % re.escape(string.punctuation),\n",
        "                                  '')"
      ],
      "metadata": {
        "id": "46NPtHcvZrLv"
      },
      "execution_count": 11,
      "outputs": []
    },
    {
      "cell_type": "code",
      "source": [
        "# Standardization and Vectorization işlemlerini uygulayalım\n",
        "max_features = 10000\n",
        "sequence_length = 250\n",
        "\n",
        "vectorize_layer = layers.TextVectorization(\n",
        "    standardize = custom_standardization,\n",
        "    max_tokens = max_features,\n",
        "    output_mode = \"int\",\n",
        "    output_sequence_length = sequence_length\n",
        ")"
      ],
      "metadata": {
        "id": "XaBrTgUGa8sC"
      },
      "execution_count": 12,
      "outputs": []
    },
    {
      "cell_type": "code",
      "source": [
        "# Vectorize katmanını oluşturduk şimdi metinlere uygulamadan önce veri setindeki cümle ve labelları birbirinden ayırmamız lazım\n",
        "train_text = raw_train_ds.map(lambda x , y : x)\n",
        "# vectorize_layer ı veri setine uydurmak için adapt fonksiyonu çağırıyoruz\n",
        "# Not : adapt sadece train veri setine uygulanır\n",
        "vectorize_layer.adapt(train_text)"
      ],
      "metadata": {
        "id": "sGSKqsFaPuCS"
      },
      "execution_count": 13,
      "outputs": []
    },
    {
      "cell_type": "code",
      "source": [
        "# örnek görmek için fonksiyon hazırlayalım\n",
        "def vectorize_text(text,label):\n",
        "  text = tf.expand_dims(text,-1)\n",
        "  return vectorize_layer(text),label"
      ],
      "metadata": {
        "id": "Pb98Cdf5QgwA"
      },
      "execution_count": 14,
      "outputs": []
    },
    {
      "cell_type": "code",
      "source": [
        "# veri setinden bir batch yani 32 örnek alalım\n",
        "text_batch,label_batch = next(iter(raw_train_ds))\n",
        "first_question , first_label = text_batch[0],label_batch[0]\n",
        "print(\"First Question\" , first_question)\n",
        "print(\"Label\" , first_label)\n",
        "print(\"Vectorize Question\" , vectorize_text(first_question,first_label))"
      ],
      "metadata": {
        "colab": {
          "base_uri": "https://localhost:8080/"
        },
        "id": "z_VPEEnrQ1j5",
        "outputId": "3728348b-287f-41c0-b1be-b3f2f55304b7"
      },
      "execution_count": 15,
      "outputs": [
        {
          "output_type": "stream",
          "name": "stdout",
          "text": [
            "First Question tf.Tensor(b'\"set blank to quit on exception? i\\'m using blank 3..i\\'ve been looking around for an answer to this, but i haven\\'t found it yet. basically, i\\'m running several blank scripts into a game engine, and each script has its own entry point...i\\'d rather not add try: except blocks through all of my code, so i was wondering if it\\'s at all possible to tell blank to quit (or perhaps assign a custom function to that \"\"callback\"\") on finding its first error, regardless of where or what it found? ..currently, the game engine will continue after finding and hitting an error, making it more difficult than necessary to diagnose issues since running into one error may make a subsequent script not work (as it relies on variables that the error-ing script set, for example). any ideas? ..i know that i could redirect the console to a file to allow for easier scrolling, but just capturing the first error and stopping the game prematurely would be really useful...okay, a couple of extra bits of info - sorry for neglecting to say this. the engine i\\'m using (the blender game engine) is coded in c, so changing the source is more than i\\'d like to do.....after googling, it would appear that a similar question with a solid answer has been asked here, which is how to get the last raised exception. if i check the sys module for the presence of the last_value variable and it exists, then i can quit prematurely, as the console would have already printed out the error...thanks for the help.\"\\n', shape=(), dtype=string)\n",
            "Label tf.Tensor(3, shape=(), dtype=int32)\n",
            "Vectorize Question (<tf.Tensor: shape=(1, 250), dtype=int64, numpy=\n",
            "array([[ 107,   16,    4, 1139,   37,  184,   52,   47,   16,    1,  215,\n",
            "         417,  518,   12,   32,  182,    4,   13,   26,    3, 1416,  227,\n",
            "          11,  894,  627,   52,  309,  718,   16, 1274,  100,    5,  244,\n",
            "        1826,    8,  119,  224,   95,   97,  657,  858,    1,  797,   20,\n",
            "         125,  117,  559, 2282,  194,   73,    9,   23,   30,   50,    3,\n",
            "         115,  566,   10,   97,   59,   73,  204,    4,  412,   16,    4,\n",
            "        1139,   45, 1670,  601,    5,  694,   38,    4,   14,  851,   37,\n",
            "         967,   97,   98,   65, 2374,    9,  132,   45,   55,   11,  227,\n",
            "         401,    2,  244, 1826,   72,  534,  156,  967,    8, 7808,   32,\n",
            "          65,  468,   11,  181, 2332,  198, 1461,    4,    1, 1093,  447,\n",
            "         309,  100,   71,   65,  454,  109,    5, 3560,  224,   20,  139,\n",
            "          36,   11, 9052,   37,  233,   14,    2,    1,  224,  107,   12,\n",
            "         137,   76,  779,    3,  102,   14,    3,  176, 1853,    2,  332,\n",
            "           4,    5,   39,    4,  787,   12, 1320, 3579,   26,  106,    1,\n",
            "           2,   98,   65,    8, 2902,    2,  244,    1,   69,   33,  336,\n",
            "           1,    5, 1759,    9, 1157, 2531,    9,  568,  729,   12,    1,\n",
            "           4,  321,   13,    2, 1826,   52,   47,    2,    1,  244, 1826,\n",
            "           6, 2619,    7,  131,   50,  801,    2,  313,    6,  181,  198,\n",
            "         142,   48,    4,    1, 3965,   11,   69,  882,   14,    5,  520,\n",
            "         159,   21,    5, 1706,  182,   95,  215,  912,  101,   66,    6,\n",
            "          24,    4,   41,    2,  218, 2918,  184,   10,    3,  186,    2,\n",
            "        1358,  380,   12,    2, 9151,    9,    2,    1,  116,    8,   11,\n",
            "         758,   87,    3,   35, 1139,    1,   36,    2]])>, <tf.Tensor: shape=(), dtype=int32, numpy=3>)\n"
          ]
        }
      ]
    },
    {
      "cell_type": "code",
      "source": [
        "# vectorize edilmiş bazı kelimelere bakalım\n",
        "print(\"159------->\" , vectorize_layer.get_vocabulary()[159])\n",
        "print(\"2------->\",vectorize_layer.get_vocabulary()[2])\n",
        "print(\"1 ----------->\" , vectorize_layer.get_vocabulary()[1])\n",
        "print(\"Toplam vectorize edilmiş kelime sayısı-->{}\".format(len(vectorize_layer.get_vocabulary()))  )\n"
      ],
      "metadata": {
        "colab": {
          "base_uri": "https://localhost:8080/"
        },
        "id": "tIjz6dAjSpeX",
        "outputId": "2a9667a9-bfb6-46f1-8c4c-ea4a5219d7dd"
      },
      "execution_count": 16,
      "outputs": [
        {
          "output_type": "stream",
          "name": "stdout",
          "text": [
            "159-------> question\n",
            "2-------> the\n",
            "1 -----------> [UNK]\n",
            "Toplam vectorize edilmiş kelime sayısı-->10000\n"
          ]
        }
      ]
    },
    {
      "cell_type": "code",
      "source": [
        "train_ds = raw_train_ds.map(vectorize_text)\n",
        "val_ds = raw_val_ds.map(vectorize_text)\n",
        "test_ds = raw_test_ds.map(vectorize_text)"
      ],
      "metadata": {
        "id": "qn-R_avrTCev"
      },
      "execution_count": 18,
      "outputs": []
    },
    {
      "cell_type": "markdown",
      "source": [
        "önbellek ve prefectch işlemleri"
      ],
      "metadata": {
        "id": "KA9wBHOnxWO9"
      }
    },
    {
      "cell_type": "code",
      "source": [
        "AUTOTUNE = tf.data.AUTOTUNE\n",
        "\n",
        "train_ds = train_ds.cache().prefetch(buffer_size = AUTOTUNE)\n",
        "val_ds = val_ds.cache().prefetch(buffer_size = AUTOTUNE)\n",
        "test_ds = test_ds.cache().prefetch(buffer_size = AUTOTUNE)\n"
      ],
      "metadata": {
        "id": "D_0Ao9mXxpW2"
      },
      "execution_count": 20,
      "outputs": []
    },
    {
      "cell_type": "markdown",
      "source": [
        "MODEL OLUŞTURMA"
      ],
      "metadata": {
        "id": "W4Hkd9fsyiPJ"
      }
    },
    {
      "cell_type": "code",
      "source": [
        "embedding_dim = 16\n",
        "\n",
        "model = tf.keras.Sequential([\n",
        "    layers.Embedding(max_features+1,embedding_dim),\n",
        "    layers.Dropout(0.2),\n",
        "    layers.GlobalAveragePooling1D(),\n",
        "    layers.Dropout(0.2),\n",
        "    layers.Dense(4)\n",
        "])\n",
        "\n",
        "model.summary()"
      ],
      "metadata": {
        "colab": {
          "base_uri": "https://localhost:8080/"
        },
        "id": "iCnpxNj8yj3A",
        "outputId": "a8d3c83f-f491-4888-d531-e4c753474622"
      },
      "execution_count": 22,
      "outputs": [
        {
          "output_type": "stream",
          "name": "stdout",
          "text": [
            "Model: \"sequential_1\"\n",
            "_________________________________________________________________\n",
            " Layer (type)                Output Shape              Param #   \n",
            "=================================================================\n",
            " embedding_1 (Embedding)     (None, None, 16)          160016    \n",
            "                                                                 \n",
            " dropout_2 (Dropout)         (None, None, 16)          0         \n",
            "                                                                 \n",
            " global_average_pooling1d_1  (None, 16)                0         \n",
            "  (GlobalAveragePooling1D)                                       \n",
            "                                                                 \n",
            " dropout_3 (Dropout)         (None, 16)                0         \n",
            "                                                                 \n",
            " dense_1 (Dense)             (None, 4)                 68        \n",
            "                                                                 \n",
            "=================================================================\n",
            "Total params: 160084 (625.33 KB)\n",
            "Trainable params: 160084 (625.33 KB)\n",
            "Non-trainable params: 0 (0.00 Byte)\n",
            "_________________________________________________________________\n"
          ]
        }
      ]
    },
    {
      "cell_type": "code",
      "source": [
        "# model compile\n",
        "model.compile(loss = losses.SparseCategoricalCrossentropy(from_logits=True),\n",
        "              optimizer = \"adam\",\n",
        "              metrics = [\"accuracy\"]\n",
        "              )"
      ],
      "metadata": {
        "id": "3oWnqgCSzMKu"
      },
      "execution_count": 24,
      "outputs": []
    },
    {
      "cell_type": "code",
      "source": [
        "# modeli eğitelim\n",
        "epochs = 20\n",
        "history = model.fit(\n",
        "    train_ds,\n",
        "    validation_data = val_ds,\n",
        "    epochs = epochs\n",
        ")"
      ],
      "metadata": {
        "colab": {
          "base_uri": "https://localhost:8080/"
        },
        "id": "ghB9Ip1R0CT5",
        "outputId": "c289a494-7d77-46de-bf94-2ba78ff1ce94"
      },
      "execution_count": 26,
      "outputs": [
        {
          "output_type": "stream",
          "name": "stdout",
          "text": [
            "Epoch 1/20\n",
            "200/200 [==============================] - 1s 7ms/step - loss: 0.7657 - accuracy: 0.7858 - val_loss: 0.7769 - val_accuracy: 0.7744\n",
            "Epoch 2/20\n",
            "200/200 [==============================] - 1s 7ms/step - loss: 0.7257 - accuracy: 0.7998 - val_loss: 0.7451 - val_accuracy: 0.7850\n",
            "Epoch 3/20\n",
            "200/200 [==============================] - 1s 7ms/step - loss: 0.6899 - accuracy: 0.8053 - val_loss: 0.7173 - val_accuracy: 0.7887\n",
            "Epoch 4/20\n",
            "200/200 [==============================] - 2s 11ms/step - loss: 0.6575 - accuracy: 0.8159 - val_loss: 0.6921 - val_accuracy: 0.7944\n",
            "Epoch 5/20\n",
            "200/200 [==============================] - 2s 10ms/step - loss: 0.6281 - accuracy: 0.8277 - val_loss: 0.6706 - val_accuracy: 0.7937\n",
            "Epoch 6/20\n",
            "200/200 [==============================] - 1s 7ms/step - loss: 0.6016 - accuracy: 0.8313 - val_loss: 0.6509 - val_accuracy: 0.7969\n",
            "Epoch 7/20\n",
            "200/200 [==============================] - 1s 7ms/step - loss: 0.5772 - accuracy: 0.8392 - val_loss: 0.6323 - val_accuracy: 0.7962\n",
            "Epoch 8/20\n",
            "200/200 [==============================] - 1s 7ms/step - loss: 0.5558 - accuracy: 0.8445 - val_loss: 0.6164 - val_accuracy: 0.8006\n",
            "Epoch 9/20\n",
            "200/200 [==============================] - 1s 7ms/step - loss: 0.5334 - accuracy: 0.8541 - val_loss: 0.6023 - val_accuracy: 0.8044\n",
            "Epoch 10/20\n",
            "200/200 [==============================] - 2s 9ms/step - loss: 0.5153 - accuracy: 0.8606 - val_loss: 0.5892 - val_accuracy: 0.8069\n",
            "Epoch 11/20\n",
            "200/200 [==============================] - 2s 11ms/step - loss: 0.4982 - accuracy: 0.8606 - val_loss: 0.5776 - val_accuracy: 0.8075\n",
            "Epoch 12/20\n",
            "200/200 [==============================] - 1s 7ms/step - loss: 0.4794 - accuracy: 0.8678 - val_loss: 0.5669 - val_accuracy: 0.8138\n",
            "Epoch 13/20\n",
            "200/200 [==============================] - 1s 7ms/step - loss: 0.4623 - accuracy: 0.8759 - val_loss: 0.5572 - val_accuracy: 0.8156\n",
            "Epoch 14/20\n",
            "200/200 [==============================] - 1s 7ms/step - loss: 0.4461 - accuracy: 0.8791 - val_loss: 0.5489 - val_accuracy: 0.8144\n",
            "Epoch 15/20\n",
            "200/200 [==============================] - 1s 7ms/step - loss: 0.4289 - accuracy: 0.8858 - val_loss: 0.5402 - val_accuracy: 0.8150\n",
            "Epoch 16/20\n",
            "200/200 [==============================] - 1s 7ms/step - loss: 0.4186 - accuracy: 0.8895 - val_loss: 0.5317 - val_accuracy: 0.8225\n",
            "Epoch 17/20\n",
            "200/200 [==============================] - 2s 9ms/step - loss: 0.4063 - accuracy: 0.8922 - val_loss: 0.5249 - val_accuracy: 0.8194\n",
            "Epoch 18/20\n",
            "200/200 [==============================] - 2s 11ms/step - loss: 0.3913 - accuracy: 0.8966 - val_loss: 0.5190 - val_accuracy: 0.8256\n",
            "Epoch 19/20\n",
            "200/200 [==============================] - 1s 7ms/step - loss: 0.3806 - accuracy: 0.8994 - val_loss: 0.5130 - val_accuracy: 0.8269\n",
            "Epoch 20/20\n",
            "200/200 [==============================] - 1s 7ms/step - loss: 0.3658 - accuracy: 0.9017 - val_loss: 0.5080 - val_accuracy: 0.8269\n"
          ]
        }
      ]
    },
    {
      "cell_type": "code",
      "source": [
        "loss , accuracy = model.evaluate(test_ds)\n",
        "print(\"Loss\" , loss)\n",
        "print(\"Accuracy\" ,accuracy)"
      ],
      "metadata": {
        "colab": {
          "base_uri": "https://localhost:8080/"
        },
        "id": "AHEMdKLO0vPF",
        "outputId": "6676fc95-3e69-4e4b-adb4-a7a465f15d74"
      },
      "execution_count": 27,
      "outputs": [
        {
          "output_type": "stream",
          "name": "stdout",
          "text": [
            "250/250 [==============================] - 2s 5ms/step - loss: 0.5592 - accuracy: 0.7970\n",
            "Loss 0.5591713190078735\n",
            "Accuracy 0.796999990940094\n"
          ]
        }
      ]
    },
    {
      "cell_type": "code",
      "source": [
        "history_dict = history.history\n",
        "history_dict.keys()"
      ],
      "metadata": {
        "colab": {
          "base_uri": "https://localhost:8080/"
        },
        "id": "8a9Ta7cn1QFI",
        "outputId": "e65f3dff-0977-43ef-9d4c-1340fed2d581"
      },
      "execution_count": 28,
      "outputs": [
        {
          "output_type": "execute_result",
          "data": {
            "text/plain": [
              "dict_keys(['loss', 'accuracy', 'val_loss', 'val_accuracy'])"
            ]
          },
          "metadata": {},
          "execution_count": 28
        }
      ]
    },
    {
      "cell_type": "code",
      "source": [
        "# Doğruluk ve kayıp grafiklerini oluşturalım\n",
        "acc = history_dict['accuracy']\n",
        "val_acc = history_dict['val_accuracy']\n",
        "loss = history_dict['loss']\n",
        "val_loss = history_dict['val_loss']\n",
        "\n",
        "epochs = range(1,len(acc)+1)\n",
        "\n",
        "plt.plot(epochs,loss,\"bo\",label = \"Training Loss\")\n",
        "plt.plot(epochs,val_loss,\"b\",label = \"Validation Loss\")\n",
        "plt.title(\"Training And Validation Loss\")\n",
        "plt.xlabel(\"Epochs\")\n",
        "plt.ylabel(\"Loss\")\n",
        "plt.legend()\n",
        "plt.show()"
      ],
      "metadata": {
        "colab": {
          "base_uri": "https://localhost:8080/",
          "height": 472
        },
        "id": "ob17MUXv1CcZ",
        "outputId": "d6149529-f2bf-4469-9c76-08cd3c54e6a6"
      },
      "execution_count": 29,
      "outputs": [
        {
          "output_type": "display_data",
          "data": {
            "text/plain": [
              "<Figure size 640x480 with 1 Axes>"
            ],
            "image/png": "[encoded data removed]"
          },
          "metadata": {}
        }
      ]
    },
    {
      "cell_type": "code",
      "source": [
        "plt.plot(epochs,acc,\"bo\",label = \"Training Accuracy\")\n",
        "plt.plot(epochs,val_acc,\"b\",label = \"Validation Accuracy\")\n",
        "plt.title(\"Training And Validation Accuracy\")\n",
        "plt.xlabel(\"EPochs\")\n",
        "plt.ylabel(\"Accuracy\")\n",
        "plt.legend(loc = \"lower right\")\n",
        "plt.show()"
      ],
      "metadata": {
        "colab": {
          "base_uri": "https://localhost:8080/",
          "height": 472
        },
        "id": "Sw2mwcSp2a3C",
        "outputId": "b9112057-daa6-41c9-f5d6-95b419ff7a19"
      },
      "execution_count": 31,
      "outputs": [
        {
          "output_type": "display_data",
          "data": {
            "text/plain": [
              "<Figure size 640x480 with 1 Axes>"
            ],
            "image/png": "[encoded data removed]"
          },
          "metadata": {}
        }
      ]
    },
    {
      "cell_type": "code",
      "source": [
        "# modeli dışa aktaralım\n",
        "export_model = tf.keras.Sequential([\n",
        "    vectorize_layer,\n",
        "    model,\n",
        "    layers.Activation(\"sigmoid\")\n",
        "])\n",
        "\n",
        "export_model.compile(loss = losses.SparseCategoricalCrossentropy(from_logits=True),\n",
        "                     optimizer = \"adam\",\n",
        "                     metrics = [\"accuracy\"])"
      ],
      "metadata": {
        "id": "JCHLhzfF3EDf"
      },
      "execution_count": 32,
      "outputs": []
    },
    {
      "cell_type": "code",
      "source": [
        "loss , accuracy =  export_model.evaluate(raw_test_ds)\n",
        "print(\"Accuracy:\",accuracy)\n",
        "print(\"loss : \" , loss)"
      ],
      "metadata": {
        "colab": {
          "base_uri": "https://localhost:8080/"
        },
        "id": "C10F9Bxf3hhc",
        "outputId": "58bf9f95-bb07-4f8a-dc3b-4194e65eeb8e"
      },
      "execution_count": 34,
      "outputs": [
        {
          "output_type": "stream",
          "name": "stderr",
          "text": [
            "/usr/local/lib/python3.10/dist-packages/keras/src/backend.py:5727: UserWarning: \"`sparse_categorical_crossentropy` received `from_logits=True`, but the `output` argument was produced by a Softmax activation and thus does not represent logits. Was this intended?\n",
            "  output, from_logits = _get_logits(\n"
          ]
        },
        {
          "output_type": "stream",
          "name": "stdout",
          "text": [
            "250/250 [==============================] - 4s 9ms/step - loss: 0.5592 - accuracy: 0.7970\n",
            "Accuracy: 0.796999990940094\n",
            "loss :  0.5591710805892944\n"
          ]
        }
      ]
    },
    {
      "cell_type": "code",
      "source": [
        "examples = [\"Return the maximum length of a substring of s that can be changed to be the same as the corresponding substring of t with a cost less than or equal to maxCost. If there is no substring from s that can be changed to its corresponding substring from t, return 0.\",\n",
        "            \"I want to combine this dataframe with itself then, get the total length for orders, the length of unique values for columns, and the list of unique values for customers. Then, I want to sort in descending for the orders length and ascending for the columns length. But I should also keep the original version of the combination. For this situation, I did the following\",\n",
        "            \"If we can assume that each process describes a set of orders made by a single customer on a single column, then we can replace associated lists with their single representatives. And the question of expected column_length and customers values can be replaced by whether or not columns and customers associated with a pair of processes are equal, sort of:\"]\n",
        "\n",
        "export_model.predict(examples)\n"
      ],
      "metadata": {
        "colab": {
          "base_uri": "https://localhost:8080/"
        },
        "id": "hgjXDoKb32Za",
        "outputId": "021e352e-0542-46c8-bc28-de39f7703e4f"
      },
      "execution_count": 40,
      "outputs": [
        {
          "output_type": "stream",
          "name": "stdout",
          "text": [
            "1/1 [==============================] - 0s 36ms/step\n"
          ]
        },
        {
          "output_type": "execute_result",
          "data": {
            "text/plain": [
              "array([[0.4314122 , 0.5922919 , 0.3585906 , 0.6046086 ],\n",
              "       [0.35375997, 0.43074888, 0.34450713, 0.8262189 ],\n",
              "       [0.6166501 , 0.47747067, 0.39206558, 0.4919412 ]], dtype=float32)"
            ]
          },
          "metadata": {},
          "execution_count": 40
        }
      ]
    },
    {
      "cell_type": "markdown",
      "source": [
        "['python', 'javascript', 'csharp', 'java']\n"
      ],
      "metadata": {
        "id": "6fzbc3_47AuW"
      }
    }
  ]
}
